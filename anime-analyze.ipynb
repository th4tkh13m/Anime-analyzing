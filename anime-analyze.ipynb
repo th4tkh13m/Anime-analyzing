{
 "cells": [
  {
   "cell_type": "code",
   "execution_count": 1,
   "metadata": {},
   "outputs": [],
   "source": [
    "import pandas as pd\n",
    "import numpy as np\n",
    "from IPython.display import Image\n",
    "from datetime import datetime\n",
    "import matplotlib.pyplot as plt"
   ]
  },
  {
   "cell_type": "code",
   "execution_count": 2,
   "metadata": {},
   "outputs": [
    {
     "data": {
      "text/html": [
       "<div>\n",
       "<style scoped>\n",
       "    .dataframe tbody tr th:only-of-type {\n",
       "        vertical-align: middle;\n",
       "    }\n",
       "\n",
       "    .dataframe tbody tr th {\n",
       "        vertical-align: top;\n",
       "    }\n",
       "\n",
       "    .dataframe thead th {\n",
       "        text-align: right;\n",
       "    }\n",
       "</style>\n",
       "<table border=\"1\" class=\"dataframe\">\n",
       "  <thead>\n",
       "    <tr style=\"text-align: right;\">\n",
       "      <th></th>\n",
       "      <th>anime_id</th>\n",
       "      <th>title</th>\n",
       "      <th>title_english</th>\n",
       "      <th>title_japanese</th>\n",
       "      <th>title_synonyms</th>\n",
       "      <th>image_url</th>\n",
       "      <th>type</th>\n",
       "      <th>source</th>\n",
       "      <th>episodes</th>\n",
       "      <th>status</th>\n",
       "      <th>...</th>\n",
       "      <th>background</th>\n",
       "      <th>premiered</th>\n",
       "      <th>broadcast</th>\n",
       "      <th>related</th>\n",
       "      <th>producer</th>\n",
       "      <th>licensor</th>\n",
       "      <th>studio</th>\n",
       "      <th>genre</th>\n",
       "      <th>opening_theme</th>\n",
       "      <th>ending_theme</th>\n",
       "    </tr>\n",
       "  </thead>\n",
       "  <tbody>\n",
       "    <tr>\n",
       "      <th>0</th>\n",
       "      <td>11013</td>\n",
       "      <td>Inu x Boku SS</td>\n",
       "      <td>Inu X Boku Secret Service</td>\n",
       "      <td>妖狐×僕SS</td>\n",
       "      <td>Youko x Boku SS</td>\n",
       "      <td>https://myanimelist.cdn-dena.com/images/anime/...</td>\n",
       "      <td>TV</td>\n",
       "      <td>Manga</td>\n",
       "      <td>12</td>\n",
       "      <td>Finished Airing</td>\n",
       "      <td>...</td>\n",
       "      <td>Inu x Boku SS was licensed by Sentai Filmworks...</td>\n",
       "      <td>Winter 2012</td>\n",
       "      <td>Fridays at Unknown</td>\n",
       "      <td>{'Adaptation': [{'mal_id': 17207, 'type': 'man...</td>\n",
       "      <td>Aniplex, Square Enix, Mainichi Broadcasting Sy...</td>\n",
       "      <td>Sentai Filmworks</td>\n",
       "      <td>David Production</td>\n",
       "      <td>Comedy, Supernatural, Romance, Shounen</td>\n",
       "      <td>['\"Nirvana\" by MUCC']</td>\n",
       "      <td>['#1: \"Nirvana\" by MUCC (eps 1, 11-12)', '#2: ...</td>\n",
       "    </tr>\n",
       "    <tr>\n",
       "      <th>1</th>\n",
       "      <td>2104</td>\n",
       "      <td>Seto no Hanayome</td>\n",
       "      <td>My Bride is a Mermaid</td>\n",
       "      <td>瀬戸の花嫁</td>\n",
       "      <td>The Inland Sea Bride</td>\n",
       "      <td>https://myanimelist.cdn-dena.com/images/anime/...</td>\n",
       "      <td>TV</td>\n",
       "      <td>Manga</td>\n",
       "      <td>26</td>\n",
       "      <td>Finished Airing</td>\n",
       "      <td>...</td>\n",
       "      <td>NaN</td>\n",
       "      <td>Spring 2007</td>\n",
       "      <td>Unknown</td>\n",
       "      <td>{'Adaptation': [{'mal_id': 759, 'type': 'manga...</td>\n",
       "      <td>TV Tokyo, AIC, Square Enix, Sotsu</td>\n",
       "      <td>Funimation</td>\n",
       "      <td>Gonzo</td>\n",
       "      <td>Comedy, Parody, Romance, School, Shounen</td>\n",
       "      <td>['\"Romantic summer\" by SUN&amp;LUNAR']</td>\n",
       "      <td>['#1: \"Ashita e no Hikari (明日への光)\" by Asuka Hi...</td>\n",
       "    </tr>\n",
       "    <tr>\n",
       "      <th>2</th>\n",
       "      <td>5262</td>\n",
       "      <td>Shugo Chara!! Doki</td>\n",
       "      <td>Shugo Chara!! Doki</td>\n",
       "      <td>しゅごキャラ！！どきっ</td>\n",
       "      <td>Shugo Chara Ninenme, Shugo Chara! Second Year</td>\n",
       "      <td>https://myanimelist.cdn-dena.com/images/anime/...</td>\n",
       "      <td>TV</td>\n",
       "      <td>Manga</td>\n",
       "      <td>51</td>\n",
       "      <td>Finished Airing</td>\n",
       "      <td>...</td>\n",
       "      <td>NaN</td>\n",
       "      <td>Fall 2008</td>\n",
       "      <td>Unknown</td>\n",
       "      <td>{'Adaptation': [{'mal_id': 101, 'type': 'manga...</td>\n",
       "      <td>TV Tokyo, Sotsu</td>\n",
       "      <td>NaN</td>\n",
       "      <td>Satelight</td>\n",
       "      <td>Comedy, Magic, School, Shoujo</td>\n",
       "      <td>['#1: \"Minna no Tamago (みんなのたまご)\" by Shugo Cha...</td>\n",
       "      <td>['#1: \"Rottara Rottara (ロッタラ ロッタラ)\" by Buono! ...</td>\n",
       "    </tr>\n",
       "    <tr>\n",
       "      <th>3</th>\n",
       "      <td>721</td>\n",
       "      <td>Princess Tutu</td>\n",
       "      <td>Princess Tutu</td>\n",
       "      <td>プリンセスチュチュ</td>\n",
       "      <td>NaN</td>\n",
       "      <td>https://myanimelist.cdn-dena.com/images/anime/...</td>\n",
       "      <td>TV</td>\n",
       "      <td>Original</td>\n",
       "      <td>38</td>\n",
       "      <td>Finished Airing</td>\n",
       "      <td>...</td>\n",
       "      <td>Princess Tutu aired in two parts. The first pa...</td>\n",
       "      <td>Summer 2002</td>\n",
       "      <td>Fridays at Unknown</td>\n",
       "      <td>{'Adaptation': [{'mal_id': 1581, 'type': 'mang...</td>\n",
       "      <td>Memory-Tech, GANSIS, Marvelous AQL</td>\n",
       "      <td>ADV Films</td>\n",
       "      <td>Hal Film Maker</td>\n",
       "      <td>Comedy, Drama, Magic, Romance, Fantasy</td>\n",
       "      <td>['\"Morning Grace\" by Ritsuko Okazaki']</td>\n",
       "      <td>['\"Watashi No Ai Wa Chiisaikeredo\" by Ritsuko ...</td>\n",
       "    </tr>\n",
       "    <tr>\n",
       "      <th>4</th>\n",
       "      <td>12365</td>\n",
       "      <td>Bakuman. 3rd Season</td>\n",
       "      <td>Bakuman.</td>\n",
       "      <td>バクマン。</td>\n",
       "      <td>Bakuman Season 3</td>\n",
       "      <td>https://myanimelist.cdn-dena.com/images/anime/...</td>\n",
       "      <td>TV</td>\n",
       "      <td>Manga</td>\n",
       "      <td>25</td>\n",
       "      <td>Finished Airing</td>\n",
       "      <td>...</td>\n",
       "      <td>NaN</td>\n",
       "      <td>Fall 2012</td>\n",
       "      <td>Unknown</td>\n",
       "      <td>{'Adaptation': [{'mal_id': 9711, 'type': 'mang...</td>\n",
       "      <td>NHK, Shueisha</td>\n",
       "      <td>NaN</td>\n",
       "      <td>J.C.Staff</td>\n",
       "      <td>Comedy, Drama, Romance, Shounen</td>\n",
       "      <td>['#1: \"Moshimo no Hanashi (もしもの話)\" by nano.RIP...</td>\n",
       "      <td>['#1: \"Pride on Everyday\" by Sphere (eps 1-13)...</td>\n",
       "    </tr>\n",
       "  </tbody>\n",
       "</table>\n",
       "<p>5 rows × 31 columns</p>\n",
       "</div>"
      ],
      "text/plain": [
       "   anime_id                title              title_english title_japanese  \\\n",
       "0     11013        Inu x Boku SS  Inu X Boku Secret Service         妖狐×僕SS   \n",
       "1      2104     Seto no Hanayome      My Bride is a Mermaid          瀬戸の花嫁   \n",
       "2      5262   Shugo Chara!! Doki         Shugo Chara!! Doki    しゅごキャラ！！どきっ   \n",
       "3       721        Princess Tutu              Princess Tutu      プリンセスチュチュ   \n",
       "4     12365  Bakuman. 3rd Season                   Bakuman.          バクマン。   \n",
       "\n",
       "                                  title_synonyms  \\\n",
       "0                                Youko x Boku SS   \n",
       "1                           The Inland Sea Bride   \n",
       "2  Shugo Chara Ninenme, Shugo Chara! Second Year   \n",
       "3                                            NaN   \n",
       "4                               Bakuman Season 3   \n",
       "\n",
       "                                           image_url type    source  episodes  \\\n",
       "0  https://myanimelist.cdn-dena.com/images/anime/...   TV     Manga        12   \n",
       "1  https://myanimelist.cdn-dena.com/images/anime/...   TV     Manga        26   \n",
       "2  https://myanimelist.cdn-dena.com/images/anime/...   TV     Manga        51   \n",
       "3  https://myanimelist.cdn-dena.com/images/anime/...   TV  Original        38   \n",
       "4  https://myanimelist.cdn-dena.com/images/anime/...   TV     Manga        25   \n",
       "\n",
       "            status  ...                                         background  \\\n",
       "0  Finished Airing  ...  Inu x Boku SS was licensed by Sentai Filmworks...   \n",
       "1  Finished Airing  ...                                                NaN   \n",
       "2  Finished Airing  ...                                                NaN   \n",
       "3  Finished Airing  ...  Princess Tutu aired in two parts. The first pa...   \n",
       "4  Finished Airing  ...                                                NaN   \n",
       "\n",
       "     premiered           broadcast  \\\n",
       "0  Winter 2012  Fridays at Unknown   \n",
       "1  Spring 2007             Unknown   \n",
       "2    Fall 2008             Unknown   \n",
       "3  Summer 2002  Fridays at Unknown   \n",
       "4    Fall 2012             Unknown   \n",
       "\n",
       "                                             related  \\\n",
       "0  {'Adaptation': [{'mal_id': 17207, 'type': 'man...   \n",
       "1  {'Adaptation': [{'mal_id': 759, 'type': 'manga...   \n",
       "2  {'Adaptation': [{'mal_id': 101, 'type': 'manga...   \n",
       "3  {'Adaptation': [{'mal_id': 1581, 'type': 'mang...   \n",
       "4  {'Adaptation': [{'mal_id': 9711, 'type': 'mang...   \n",
       "\n",
       "                                            producer          licensor  \\\n",
       "0  Aniplex, Square Enix, Mainichi Broadcasting Sy...  Sentai Filmworks   \n",
       "1                  TV Tokyo, AIC, Square Enix, Sotsu        Funimation   \n",
       "2                                    TV Tokyo, Sotsu               NaN   \n",
       "3                 Memory-Tech, GANSIS, Marvelous AQL         ADV Films   \n",
       "4                                      NHK, Shueisha               NaN   \n",
       "\n",
       "             studio                                     genre  \\\n",
       "0  David Production    Comedy, Supernatural, Romance, Shounen   \n",
       "1             Gonzo  Comedy, Parody, Romance, School, Shounen   \n",
       "2         Satelight             Comedy, Magic, School, Shoujo   \n",
       "3    Hal Film Maker    Comedy, Drama, Magic, Romance, Fantasy   \n",
       "4         J.C.Staff           Comedy, Drama, Romance, Shounen   \n",
       "\n",
       "                                       opening_theme  \\\n",
       "0                              ['\"Nirvana\" by MUCC']   \n",
       "1                 ['\"Romantic summer\" by SUN&LUNAR']   \n",
       "2  ['#1: \"Minna no Tamago (みんなのたまご)\" by Shugo Cha...   \n",
       "3             ['\"Morning Grace\" by Ritsuko Okazaki']   \n",
       "4  ['#1: \"Moshimo no Hanashi (もしもの話)\" by nano.RIP...   \n",
       "\n",
       "                                        ending_theme  \n",
       "0  ['#1: \"Nirvana\" by MUCC (eps 1, 11-12)', '#2: ...  \n",
       "1  ['#1: \"Ashita e no Hikari (明日への光)\" by Asuka Hi...  \n",
       "2  ['#1: \"Rottara Rottara (ロッタラ ロッタラ)\" by Buono! ...  \n",
       "3  ['\"Watashi No Ai Wa Chiisaikeredo\" by Ritsuko ...  \n",
       "4  ['#1: \"Pride on Everyday\" by Sphere (eps 1-13)...  \n",
       "\n",
       "[5 rows x 31 columns]"
      ]
     },
     "execution_count": 2,
     "metadata": {},
     "output_type": "execute_result"
    }
   ],
   "source": [
    "anime = pd.read_csv(\"./Data/AnimeList.csv\")\n",
    "anime.head()"
   ]
  },
  {
   "cell_type": "code",
   "execution_count": 3,
   "metadata": {},
   "outputs": [
    {
     "name": "stdout",
     "output_type": "stream",
     "text": [
      "<class 'pandas.core.frame.DataFrame'>\n",
      "RangeIndex: 14478 entries, 0 to 14477\n",
      "Data columns (total 31 columns):\n",
      " #   Column          Non-Null Count  Dtype  \n",
      "---  ------          --------------  -----  \n",
      " 0   anime_id        14478 non-null  int64  \n",
      " 1   title           14478 non-null  object \n",
      " 2   title_english   5724 non-null   object \n",
      " 3   title_japanese  14443 non-null  object \n",
      " 4   title_synonyms  8937 non-null   object \n",
      " 5   image_url       14382 non-null  object \n",
      " 6   type            14478 non-null  object \n",
      " 7   source          14478 non-null  object \n",
      " 8   episodes        14478 non-null  int64  \n",
      " 9   status          14478 non-null  object \n",
      " 10  airing          14478 non-null  bool   \n",
      " 11  aired_string    14478 non-null  object \n",
      " 12  aired           14478 non-null  object \n",
      " 13  duration        14478 non-null  object \n",
      " 14  rating          14478 non-null  object \n",
      " 15  score           14478 non-null  float64\n",
      " 16  scored_by       14478 non-null  int64  \n",
      " 17  rank            12904 non-null  float64\n",
      " 18  popularity      14478 non-null  int64  \n",
      " 19  members         14478 non-null  int64  \n",
      " 20  favorites       14478 non-null  int64  \n",
      " 21  background      1057 non-null   object \n",
      " 22  premiered       4096 non-null   object \n",
      " 23  broadcast       4271 non-null   object \n",
      " 24  related         14478 non-null  object \n",
      " 25  producer        8288 non-null   object \n",
      " 26  licensor        3373 non-null   object \n",
      " 27  studio          8544 non-null   object \n",
      " 28  genre           14414 non-null  object \n",
      " 29  opening_theme   14478 non-null  object \n",
      " 30  ending_theme    14478 non-null  object \n",
      "dtypes: bool(1), float64(2), int64(6), object(22)\n",
      "memory usage: 3.3+ MB\n"
     ]
    }
   ],
   "source": [
    "anime.info()"
   ]
  },
  {
   "cell_type": "code",
   "execution_count": 4,
   "metadata": {},
   "outputs": [
    {
     "data": {
      "text/plain": [
       "Index(['anime_id', 'title', 'title_english', 'title_japanese',\n",
       "       'title_synonyms', 'image_url', 'type', 'source', 'episodes', 'status',\n",
       "       'airing', 'aired_string', 'aired', 'duration', 'rating', 'score',\n",
       "       'scored_by', 'rank', 'popularity', 'members', 'favorites', 'background',\n",
       "       'premiered', 'broadcast', 'related', 'producer', 'licensor', 'studio',\n",
       "       'genre', 'opening_theme', 'ending_theme'],\n",
       "      dtype='object')"
      ]
     },
     "execution_count": 4,
     "metadata": {},
     "output_type": "execute_result"
    }
   ],
   "source": [
    "anime.columns"
   ]
  },
  {
   "cell_type": "markdown",
   "metadata": {},
   "source": [
    "Well, that's a lot! We should drop some columns"
   ]
  },
  {
   "cell_type": "markdown",
   "metadata": {},
   "source": [
    "I have already think of dropping the titles, image's URL, Opening and Ending theme since they are redundant and do not provide anything new about the animes. But what are the scored_by, popularity,etc?\n",
    "Let's learn about those columns directly from MyAnimeList and the data itself. "
   ]
  },
  {
   "cell_type": "markdown",
   "metadata": {},
   "source": [
    "Well, let's try to explain each column, one by one.\n",
    "\n",
    "First of all, the `anime_id` column is the unique ID for every anime on the list. It is a primary key to distinguish every anime to each other.\n",
    "\n",
    "The `title` column is the anime's names. Similarly, the `title_english`, `title_japanese`, `title_synonyms` are literaly the same to `title`, but they are in different languages and their synonyms, which implies they are redundant and we can safely drop them.\n",
    "\n",
    "The `image_url` points to the poster image of the anime. We can drop them since it is a link and it won't add any new information to the anime.\n",
    "\n",
    "There is the easy part, now we must browse our data for more information. \n",
    " "
   ]
  },
  {
   "cell_type": "code",
   "execution_count": 5,
   "metadata": {},
   "outputs": [
    {
     "data": {
      "text/plain": [
       "Index(['anime_id', 'title', 'type', 'source', 'episodes', 'status', 'airing',\n",
       "       'aired_string', 'aired', 'duration', 'rating', 'score', 'scored_by',\n",
       "       'rank', 'popularity', 'members', 'favorites', 'background', 'premiered',\n",
       "       'broadcast', 'related', 'producer', 'licensor', 'studio', 'genre',\n",
       "       'opening_theme', 'ending_theme'],\n",
       "      dtype='object')"
      ]
     },
     "execution_count": 5,
     "metadata": {},
     "output_type": "execute_result"
    }
   ],
   "source": [
    "anime = anime.drop(columns=['title_english', 'title_japanese','title_synonyms','image_url'])\n",
    "anime.columns"
   ]
  },
  {
   "cell_type": "markdown",
   "metadata": {},
   "source": [
    "I guess the `type` column show what type that anime is. Is it TV or Movie or something else? Let's look at the database for more information."
   ]
  },
  {
   "cell_type": "code",
   "execution_count": 6,
   "metadata": {},
   "outputs": [
    {
     "data": {
      "text/plain": [
       "array(['TV', 'Movie', 'Music', 'OVA', 'ONA', 'Special', 'Unknown'],\n",
       "      dtype=object)"
      ]
     },
     "execution_count": 6,
     "metadata": {},
     "output_type": "execute_result"
    }
   ],
   "source": [
    "anime.type.unique()"
   ]
  },
  {
   "cell_type": "markdown",
   "metadata": {},
   "source": [
    "Exactly! We can spot that there are 7 types of animes. But there is a \"weird\" type: `Unknown`. Is this a specific type or is this an abbreviate for the `NaN` value?\n",
    "\n",
    "According to MyAnimeList Search,\n",
    "\n",
    "![MAL Search](./Images/Anime_Types.png)\n",
    "\n",
    "there are only 5 types: `TV`, `Movie`, `OVA`, `ONA`, `Special`. So, what do `Music` and `Unknown` mean?\n",
    "\n",
    "Let take a look at `Unknown` first, since it is the most \"weird\" type."
   ]
  },
  {
   "cell_type": "code",
   "execution_count": 7,
   "metadata": {},
   "outputs": [
    {
     "name": "stdout",
     "output_type": "stream",
     "text": [
      "False\n",
      "False\n"
     ]
    },
    {
     "data": {
      "text/html": [
       "<div>\n",
       "<style scoped>\n",
       "    .dataframe tbody tr th:only-of-type {\n",
       "        vertical-align: middle;\n",
       "    }\n",
       "\n",
       "    .dataframe tbody tr th {\n",
       "        vertical-align: top;\n",
       "    }\n",
       "\n",
       "    .dataframe thead th {\n",
       "        text-align: right;\n",
       "    }\n",
       "</style>\n",
       "<table border=\"1\" class=\"dataframe\">\n",
       "  <thead>\n",
       "    <tr style=\"text-align: right;\">\n",
       "      <th></th>\n",
       "      <th>anime_id</th>\n",
       "      <th>title</th>\n",
       "      <th>type</th>\n",
       "      <th>source</th>\n",
       "      <th>episodes</th>\n",
       "      <th>status</th>\n",
       "      <th>airing</th>\n",
       "      <th>aired_string</th>\n",
       "      <th>aired</th>\n",
       "      <th>duration</th>\n",
       "      <th>...</th>\n",
       "      <th>background</th>\n",
       "      <th>premiered</th>\n",
       "      <th>broadcast</th>\n",
       "      <th>related</th>\n",
       "      <th>producer</th>\n",
       "      <th>licensor</th>\n",
       "      <th>studio</th>\n",
       "      <th>genre</th>\n",
       "      <th>opening_theme</th>\n",
       "      <th>ending_theme</th>\n",
       "    </tr>\n",
       "  </thead>\n",
       "  <tbody>\n",
       "    <tr>\n",
       "      <th>187</th>\n",
       "      <td>35759</td>\n",
       "      <td>Sidonia no Kishi 3</td>\n",
       "      <td>Unknown</td>\n",
       "      <td>Manga</td>\n",
       "      <td>0</td>\n",
       "      <td>Not yet aired</td>\n",
       "      <td>False</td>\n",
       "      <td>Not available</td>\n",
       "      <td>{'from': None, 'to': None}</td>\n",
       "      <td>24 min.</td>\n",
       "      <td>...</td>\n",
       "      <td>NaN</td>\n",
       "      <td>NaN</td>\n",
       "      <td>NaN</td>\n",
       "      <td>{'Adaptation': [{'mal_id': 13723, 'type': 'man...</td>\n",
       "      <td>NaN</td>\n",
       "      <td>NaN</td>\n",
       "      <td>NaN</td>\n",
       "      <td>Action, Sci-Fi, Space, Mecha, Seinen</td>\n",
       "      <td>[]</td>\n",
       "      <td>[]</td>\n",
       "    </tr>\n",
       "    <tr>\n",
       "      <th>511</th>\n",
       "      <td>37651</td>\n",
       "      <td>Fate/Extra: Last Encore - Irusterias Tendouron</td>\n",
       "      <td>Unknown</td>\n",
       "      <td>Game</td>\n",
       "      <td>0</td>\n",
       "      <td>Not yet aired</td>\n",
       "      <td>False</td>\n",
       "      <td>Jul, 2018 to ?</td>\n",
       "      <td>{'from': '2018-07-12', 'to': None}</td>\n",
       "      <td>Unknown</td>\n",
       "      <td>...</td>\n",
       "      <td>NaN</td>\n",
       "      <td>NaN</td>\n",
       "      <td>NaN</td>\n",
       "      <td>{'Adaptation': [{'mal_id': 32425, 'type': 'man...</td>\n",
       "      <td>NaN</td>\n",
       "      <td>NaN</td>\n",
       "      <td>NaN</td>\n",
       "      <td>Action, Magic, Fantasy</td>\n",
       "      <td>[]</td>\n",
       "      <td>[]</td>\n",
       "    </tr>\n",
       "    <tr>\n",
       "      <th>1396</th>\n",
       "      <td>35252</td>\n",
       "      <td>Hatena☆Illusion</td>\n",
       "      <td>Unknown</td>\n",
       "      <td>Light novel</td>\n",
       "      <td>0</td>\n",
       "      <td>Not yet aired</td>\n",
       "      <td>False</td>\n",
       "      <td>Not available</td>\n",
       "      <td>{'from': None, 'to': None}</td>\n",
       "      <td>Unknown</td>\n",
       "      <td>...</td>\n",
       "      <td>NaN</td>\n",
       "      <td>NaN</td>\n",
       "      <td>NaN</td>\n",
       "      <td>{'Adaptation': [{'mal_id': 80851, 'type': 'man...</td>\n",
       "      <td>NaN</td>\n",
       "      <td>NaN</td>\n",
       "      <td>NaN</td>\n",
       "      <td>Comedy, Supernatural, Romance, Ecchi</td>\n",
       "      <td>[]</td>\n",
       "      <td>[]</td>\n",
       "    </tr>\n",
       "    <tr>\n",
       "      <th>1989</th>\n",
       "      <td>36407</td>\n",
       "      <td>Kenja no Mago</td>\n",
       "      <td>Unknown</td>\n",
       "      <td>Light novel</td>\n",
       "      <td>0</td>\n",
       "      <td>Not yet aired</td>\n",
       "      <td>False</td>\n",
       "      <td>Not available</td>\n",
       "      <td>{'from': None, 'to': None}</td>\n",
       "      <td>Unknown</td>\n",
       "      <td>...</td>\n",
       "      <td>NaN</td>\n",
       "      <td>NaN</td>\n",
       "      <td>NaN</td>\n",
       "      <td>{'Adaptation': [{'mal_id': 90561, 'type': 'man...</td>\n",
       "      <td>NaN</td>\n",
       "      <td>NaN</td>\n",
       "      <td>NaN</td>\n",
       "      <td>Action, Comedy, Magic, Fantasy</td>\n",
       "      <td>[]</td>\n",
       "      <td>[]</td>\n",
       "    </tr>\n",
       "    <tr>\n",
       "      <th>2326</th>\n",
       "      <td>34649</td>\n",
       "      <td>Soukyuu no Fafner: Dead Aggressor - The Beyond</td>\n",
       "      <td>Unknown</td>\n",
       "      <td>Original</td>\n",
       "      <td>0</td>\n",
       "      <td>Not yet aired</td>\n",
       "      <td>False</td>\n",
       "      <td>Not available</td>\n",
       "      <td>{'from': None, 'to': None}</td>\n",
       "      <td>Unknown</td>\n",
       "      <td>...</td>\n",
       "      <td>NaN</td>\n",
       "      <td>NaN</td>\n",
       "      <td>NaN</td>\n",
       "      <td>{'Other': [{'mal_id': 75, 'type': 'anime', 'ur...</td>\n",
       "      <td>NaN</td>\n",
       "      <td>NaN</td>\n",
       "      <td>Xebec Zwei</td>\n",
       "      <td>Action, Military, Sci-Fi, Drama, Mecha</td>\n",
       "      <td>[]</td>\n",
       "      <td>[]</td>\n",
       "    </tr>\n",
       "  </tbody>\n",
       "</table>\n",
       "<p>5 rows × 27 columns</p>\n",
       "</div>"
      ],
      "text/plain": [
       "      anime_id                                           title     type  \\\n",
       "187      35759                              Sidonia no Kishi 3  Unknown   \n",
       "511      37651  Fate/Extra: Last Encore - Irusterias Tendouron  Unknown   \n",
       "1396     35252                                 Hatena☆Illusion  Unknown   \n",
       "1989     36407                                   Kenja no Mago  Unknown   \n",
       "2326     34649  Soukyuu no Fafner: Dead Aggressor - The Beyond  Unknown   \n",
       "\n",
       "           source  episodes         status  airing    aired_string  \\\n",
       "187         Manga         0  Not yet aired   False   Not available   \n",
       "511          Game         0  Not yet aired   False  Jul, 2018 to ?   \n",
       "1396  Light novel         0  Not yet aired   False   Not available   \n",
       "1989  Light novel         0  Not yet aired   False   Not available   \n",
       "2326     Original         0  Not yet aired   False   Not available   \n",
       "\n",
       "                                   aired duration  ... background  premiered  \\\n",
       "187           {'from': None, 'to': None}  24 min.  ...        NaN        NaN   \n",
       "511   {'from': '2018-07-12', 'to': None}  Unknown  ...        NaN        NaN   \n",
       "1396          {'from': None, 'to': None}  Unknown  ...        NaN        NaN   \n",
       "1989          {'from': None, 'to': None}  Unknown  ...        NaN        NaN   \n",
       "2326          {'from': None, 'to': None}  Unknown  ...        NaN        NaN   \n",
       "\n",
       "      broadcast                                            related  producer  \\\n",
       "187         NaN  {'Adaptation': [{'mal_id': 13723, 'type': 'man...       NaN   \n",
       "511         NaN  {'Adaptation': [{'mal_id': 32425, 'type': 'man...       NaN   \n",
       "1396        NaN  {'Adaptation': [{'mal_id': 80851, 'type': 'man...       NaN   \n",
       "1989        NaN  {'Adaptation': [{'mal_id': 90561, 'type': 'man...       NaN   \n",
       "2326        NaN  {'Other': [{'mal_id': 75, 'type': 'anime', 'ur...       NaN   \n",
       "\n",
       "      licensor      studio                                   genre  \\\n",
       "187        NaN         NaN    Action, Sci-Fi, Space, Mecha, Seinen   \n",
       "511        NaN         NaN                  Action, Magic, Fantasy   \n",
       "1396       NaN         NaN    Comedy, Supernatural, Romance, Ecchi   \n",
       "1989       NaN         NaN          Action, Comedy, Magic, Fantasy   \n",
       "2326       NaN  Xebec Zwei  Action, Military, Sci-Fi, Drama, Mecha   \n",
       "\n",
       "     opening_theme ending_theme  \n",
       "187             []           []  \n",
       "511             []           []  \n",
       "1396            []           []  \n",
       "1989            []           []  \n",
       "2326            []           []  \n",
       "\n",
       "[5 rows x 27 columns]"
      ]
     },
     "execution_count": 7,
     "metadata": {},
     "output_type": "execute_result"
    }
   ],
   "source": [
    "print(anime.type.isnull().any())\n",
    "print(anime.type.isna().any())\n",
    "anime[anime['type'] == 'Unknown'].head()"
   ]
  },
  {
   "cell_type": "markdown",
   "metadata": {},
   "source": [
    "We can see that all the `Unknown` type animes are not aired yet. Thus, we do not have any information about these animes yet, except their name, their related anime/manga, their sources and their genres. We can consider to keep them, since they will show us the trend of future airing animes.\n",
    "\n",
    "Now, let take a look at `Music` type animes. "
   ]
  },
  {
   "cell_type": "code",
   "execution_count": 8,
   "metadata": {},
   "outputs": [
    {
     "data": {
      "text/plain": [
       "(849, 27)"
      ]
     },
     "execution_count": 8,
     "metadata": {},
     "output_type": "execute_result"
    }
   ],
   "source": [
    "anime[anime['type'] == 'Music'].shape"
   ]
  },
  {
   "cell_type": "markdown",
   "metadata": {},
   "source": [
    "A few Google search show that all the `Music` type \"Anime\" are all music videos. It means that they are not related to our interest. We can drop all the `Music` type entries."
   ]
  },
  {
   "cell_type": "code",
   "execution_count": 9,
   "metadata": {},
   "outputs": [
    {
     "data": {
      "text/plain": [
       "(13629, 27)"
      ]
     },
     "execution_count": 9,
     "metadata": {},
     "output_type": "execute_result"
    }
   ],
   "source": [
    "anime = anime[anime['type'] != 'Music']\n",
    "anime.shape"
   ]
  },
  {
   "cell_type": "code",
   "execution_count": 10,
   "metadata": {},
   "outputs": [
    {
     "name": "stdout",
     "output_type": "stream",
     "text": [
      "We check the columns of the dataset:\n"
     ]
    },
    {
     "data": {
      "text/plain": [
       "Index(['anime_id', 'title', 'type', 'source', 'episodes', 'status', 'airing',\n",
       "       'aired_string', 'aired', 'duration', 'rating', 'score', 'scored_by',\n",
       "       'rank', 'popularity', 'members', 'favorites', 'background', 'premiered',\n",
       "       'broadcast', 'related', 'producer', 'licensor', 'studio', 'genre',\n",
       "       'opening_theme', 'ending_theme'],\n",
       "      dtype='object')"
      ]
     },
     "execution_count": 10,
     "metadata": {},
     "output_type": "execute_result"
    }
   ],
   "source": [
    "print(\"We check the columns of the dataset:\")\n",
    "anime.columns"
   ]
  },
  {
   "cell_type": "markdown",
   "metadata": {},
   "source": [
    "We can easily know that the `source` of the animes are Game, Manga or something similar to that. Let's check all the available source of the animes:"
   ]
  },
  {
   "cell_type": "code",
   "execution_count": 11,
   "metadata": {},
   "outputs": [
    {
     "data": {
      "text/plain": [
       "array(['Manga', 'Original', 'Light novel', '4-koma manga', 'Novel',\n",
       "       'Visual novel', 'Unknown', 'Other', 'Game', 'Picture book',\n",
       "       'Card game', 'Web manga', 'Book', 'Music', 'Radio',\n",
       "       'Digital manga'], dtype=object)"
      ]
     },
     "execution_count": 11,
     "metadata": {},
     "output_type": "execute_result"
    }
   ],
   "source": [
    "anime['source'].unique()"
   ]
  },
  {
   "cell_type": "markdown",
   "metadata": {},
   "source": [
    "Easily, we can spot the `Unknown` source and may think that it is associated with the `Unknown` type of animes above. Let check that."
   ]
  },
  {
   "cell_type": "code",
   "execution_count": 12,
   "metadata": {},
   "outputs": [
    {
     "data": {
      "text/plain": [
       "Original        10\n",
       "Manga            7\n",
       "Light novel      4\n",
       "Unknown          3\n",
       "Game             2\n",
       "4-koma manga     2\n",
       "Novel            1\n",
       "Other            1\n",
       "Name: source, dtype: int64"
      ]
     },
     "execution_count": 12,
     "metadata": {},
     "output_type": "execute_result"
    }
   ],
   "source": [
    "anime[anime['type'] == 'Unknown']['source'].value_counts()"
   ]
  },
  {
   "cell_type": "markdown",
   "metadata": {},
   "source": [
    "It seems that almost all `Unknown` type animes have their own source different than `Unknown`. Therefore, `Unknown` source and `Unknown` type is irrelevant to each other. That raise a question, what does `Unknown` source mean?\n",
    "\n",
    "First of all, let take a look at some `Unknown` source animes."
   ]
  },
  {
   "cell_type": "code",
   "execution_count": 13,
   "metadata": {},
   "outputs": [
    {
     "data": {
      "text/plain": [
       "(4006, 27)"
      ]
     },
     "execution_count": 13,
     "metadata": {},
     "output_type": "execute_result"
    }
   ],
   "source": [
    "anime[anime['source'] == 'Unknown'].shape"
   ]
  },
  {
   "cell_type": "markdown",
   "metadata": {},
   "source": [
    "Wow, there are 4006 `Unknown` source animes! Let look at some of them:"
   ]
  },
  {
   "cell_type": "code",
   "execution_count": 14,
   "metadata": {},
   "outputs": [
    {
     "data": {
      "text/html": [
       "<div>\n",
       "<style scoped>\n",
       "    .dataframe tbody tr th:only-of-type {\n",
       "        vertical-align: middle;\n",
       "    }\n",
       "\n",
       "    .dataframe tbody tr th {\n",
       "        vertical-align: top;\n",
       "    }\n",
       "\n",
       "    .dataframe thead th {\n",
       "        text-align: right;\n",
       "    }\n",
       "</style>\n",
       "<table border=\"1\" class=\"dataframe\">\n",
       "  <thead>\n",
       "    <tr style=\"text-align: right;\">\n",
       "      <th></th>\n",
       "      <th>anime_id</th>\n",
       "      <th>title</th>\n",
       "      <th>type</th>\n",
       "      <th>source</th>\n",
       "      <th>episodes</th>\n",
       "      <th>status</th>\n",
       "      <th>airing</th>\n",
       "      <th>aired_string</th>\n",
       "      <th>aired</th>\n",
       "      <th>duration</th>\n",
       "      <th>...</th>\n",
       "      <th>background</th>\n",
       "      <th>premiered</th>\n",
       "      <th>broadcast</th>\n",
       "      <th>related</th>\n",
       "      <th>producer</th>\n",
       "      <th>licensor</th>\n",
       "      <th>studio</th>\n",
       "      <th>genre</th>\n",
       "      <th>opening_theme</th>\n",
       "      <th>ending_theme</th>\n",
       "    </tr>\n",
       "  </thead>\n",
       "  <tbody>\n",
       "    <tr>\n",
       "      <th>54</th>\n",
       "      <td>11547</td>\n",
       "      <td>Sengoku☆Paradise Kiwami</td>\n",
       "      <td>TV</td>\n",
       "      <td>Unknown</td>\n",
       "      <td>26</td>\n",
       "      <td>Finished Airing</td>\n",
       "      <td>False</td>\n",
       "      <td>Oct 4, 2011 to Mar 27, 2012</td>\n",
       "      <td>{'from': '2011-10-04', 'to': '2012-03-27'}</td>\n",
       "      <td>3 min. per ep.</td>\n",
       "      <td>...</td>\n",
       "      <td>NaN</td>\n",
       "      <td>Fall 2011</td>\n",
       "      <td>Unknown</td>\n",
       "      <td>[]</td>\n",
       "      <td>TV Tokyo, G-mode</td>\n",
       "      <td>NaN</td>\n",
       "      <td>Milky Cartoon, LMD</td>\n",
       "      <td>Action, Comedy, Drama, Historical, Romance, Sa...</td>\n",
       "      <td>['#01: \"Return Ranse Dokugan Ryuu (リターン乱世独眼竜)\"...</td>\n",
       "      <td>['\"Return Ranse Dokugan Ryuu (リターン乱世独眼竜)\" by T...</td>\n",
       "    </tr>\n",
       "    <tr>\n",
       "      <th>58</th>\n",
       "      <td>7605</td>\n",
       "      <td>Parasol Henbei</td>\n",
       "      <td>TV</td>\n",
       "      <td>Unknown</td>\n",
       "      <td>200</td>\n",
       "      <td>Finished Airing</td>\n",
       "      <td>False</td>\n",
       "      <td>Oct 2, 1989 to Jan 28, 1991</td>\n",
       "      <td>{'from': '1989-10-02', 'to': '1991-01-28'}</td>\n",
       "      <td>10 min. per ep.</td>\n",
       "      <td>...</td>\n",
       "      <td>NaN</td>\n",
       "      <td>Fall 1989</td>\n",
       "      <td>Unknown</td>\n",
       "      <td>[]</td>\n",
       "      <td>NaN</td>\n",
       "      <td>NaN</td>\n",
       "      <td>NaN</td>\n",
       "      <td>Adventure, Comedy, Fantasy, Kids, Magic</td>\n",
       "      <td>[]</td>\n",
       "      <td>[]</td>\n",
       "    </tr>\n",
       "    <tr>\n",
       "      <th>59</th>\n",
       "      <td>9389</td>\n",
       "      <td>Ginga Hyouryuu Vifam: Kieta 12-nin</td>\n",
       "      <td>OVA</td>\n",
       "      <td>Unknown</td>\n",
       "      <td>1</td>\n",
       "      <td>Finished Airing</td>\n",
       "      <td>False</td>\n",
       "      <td>Feb 25, 1985</td>\n",
       "      <td>{'from': '1985-02-25', 'to': '1985-02-25'}</td>\n",
       "      <td>57 min.</td>\n",
       "      <td>...</td>\n",
       "      <td>NaN</td>\n",
       "      <td>NaN</td>\n",
       "      <td>NaN</td>\n",
       "      <td>{'Parent story': [{'mal_id': 2987, 'type': 'an...</td>\n",
       "      <td>NaN</td>\n",
       "      <td>NaN</td>\n",
       "      <td>Sunrise</td>\n",
       "      <td>Sci-Fi, Adventure, Space, Mecha</td>\n",
       "      <td>[]</td>\n",
       "      <td>[]</td>\n",
       "    </tr>\n",
       "    <tr>\n",
       "      <th>61</th>\n",
       "      <td>9998</td>\n",
       "      <td>Chuuhai Lemon: Love 30s - Ame ni Nurete mo</td>\n",
       "      <td>OVA</td>\n",
       "      <td>Unknown</td>\n",
       "      <td>1</td>\n",
       "      <td>Finished Airing</td>\n",
       "      <td>False</td>\n",
       "      <td>Oct 21, 1985</td>\n",
       "      <td>{'from': '1985-10-21', 'to': '1985-10-21'}</td>\n",
       "      <td>44 min.</td>\n",
       "      <td>...</td>\n",
       "      <td>NaN</td>\n",
       "      <td>NaN</td>\n",
       "      <td>NaN</td>\n",
       "      <td>[]</td>\n",
       "      <td>Tsuchida Productions, Wonder Kids</td>\n",
       "      <td>NaN</td>\n",
       "      <td>NaN</td>\n",
       "      <td>Police, Comedy, Romance, Drama</td>\n",
       "      <td>[]</td>\n",
       "      <td>[]</td>\n",
       "    </tr>\n",
       "    <tr>\n",
       "      <th>64</th>\n",
       "      <td>5588</td>\n",
       "      <td>Ko Ko Ro</td>\n",
       "      <td>OVA</td>\n",
       "      <td>Unknown</td>\n",
       "      <td>2</td>\n",
       "      <td>Finished Airing</td>\n",
       "      <td>False</td>\n",
       "      <td>Dec 21, 2001 to Jun 21, 2002</td>\n",
       "      <td>{'from': '2001-12-21', 'to': '2002-06-21'}</td>\n",
       "      <td>30 min. per ep.</td>\n",
       "      <td>...</td>\n",
       "      <td>NaN</td>\n",
       "      <td>NaN</td>\n",
       "      <td>NaN</td>\n",
       "      <td>[]</td>\n",
       "      <td>NaN</td>\n",
       "      <td>NaN</td>\n",
       "      <td>NaN</td>\n",
       "      <td>Hentai</td>\n",
       "      <td>[]</td>\n",
       "      <td>[]</td>\n",
       "    </tr>\n",
       "  </tbody>\n",
       "</table>\n",
       "<p>5 rows × 27 columns</p>\n",
       "</div>"
      ],
      "text/plain": [
       "    anime_id                                       title type   source  \\\n",
       "54     11547                     Sengoku☆Paradise Kiwami   TV  Unknown   \n",
       "58      7605                              Parasol Henbei   TV  Unknown   \n",
       "59      9389          Ginga Hyouryuu Vifam: Kieta 12-nin  OVA  Unknown   \n",
       "61      9998  Chuuhai Lemon: Love 30s - Ame ni Nurete mo  OVA  Unknown   \n",
       "64      5588                                    Ko Ko Ro  OVA  Unknown   \n",
       "\n",
       "    episodes           status  airing                  aired_string  \\\n",
       "54        26  Finished Airing   False   Oct 4, 2011 to Mar 27, 2012   \n",
       "58       200  Finished Airing   False   Oct 2, 1989 to Jan 28, 1991   \n",
       "59         1  Finished Airing   False                  Feb 25, 1985   \n",
       "61         1  Finished Airing   False                  Oct 21, 1985   \n",
       "64         2  Finished Airing   False  Dec 21, 2001 to Jun 21, 2002   \n",
       "\n",
       "                                         aired         duration  ...  \\\n",
       "54  {'from': '2011-10-04', 'to': '2012-03-27'}   3 min. per ep.  ...   \n",
       "58  {'from': '1989-10-02', 'to': '1991-01-28'}  10 min. per ep.  ...   \n",
       "59  {'from': '1985-02-25', 'to': '1985-02-25'}          57 min.  ...   \n",
       "61  {'from': '1985-10-21', 'to': '1985-10-21'}          44 min.  ...   \n",
       "64  {'from': '2001-12-21', 'to': '2002-06-21'}  30 min. per ep.  ...   \n",
       "\n",
       "   background  premiered  broadcast  \\\n",
       "54        NaN  Fall 2011    Unknown   \n",
       "58        NaN  Fall 1989    Unknown   \n",
       "59        NaN        NaN        NaN   \n",
       "61        NaN        NaN        NaN   \n",
       "64        NaN        NaN        NaN   \n",
       "\n",
       "                                              related  \\\n",
       "54                                                 []   \n",
       "58                                                 []   \n",
       "59  {'Parent story': [{'mal_id': 2987, 'type': 'an...   \n",
       "61                                                 []   \n",
       "64                                                 []   \n",
       "\n",
       "                             producer  licensor              studio  \\\n",
       "54                   TV Tokyo, G-mode       NaN  Milky Cartoon, LMD   \n",
       "58                                NaN       NaN                 NaN   \n",
       "59                                NaN       NaN             Sunrise   \n",
       "61  Tsuchida Productions, Wonder Kids       NaN                 NaN   \n",
       "64                                NaN       NaN                 NaN   \n",
       "\n",
       "                                                genre  \\\n",
       "54  Action, Comedy, Drama, Historical, Romance, Sa...   \n",
       "58            Adventure, Comedy, Fantasy, Kids, Magic   \n",
       "59                    Sci-Fi, Adventure, Space, Mecha   \n",
       "61                     Police, Comedy, Romance, Drama   \n",
       "64                                             Hentai   \n",
       "\n",
       "                                        opening_theme  \\\n",
       "54  ['#01: \"Return Ranse Dokugan Ryuu (リターン乱世独眼竜)\"...   \n",
       "58                                                 []   \n",
       "59                                                 []   \n",
       "61                                                 []   \n",
       "64                                                 []   \n",
       "\n",
       "                                         ending_theme  \n",
       "54  ['\"Return Ranse Dokugan Ryuu (リターン乱世独眼竜)\" by T...  \n",
       "58                                                 []  \n",
       "59                                                 []  \n",
       "61                                                 []  \n",
       "64                                                 []  \n",
       "\n",
       "[5 rows x 27 columns]"
      ]
     },
     "execution_count": 14,
     "metadata": {},
     "output_type": "execute_result"
    }
   ],
   "source": [
    "anime[anime['source'] == 'Unknown'].head()"
   ]
  },
  {
   "cell_type": "markdown",
   "metadata": {},
   "source": [
    "It seems that the `Unknown` source animes have a lot of `NaN` value in their attributes. But notice that all five animes above finished airing. Maybe most of `Unknown` source animes are finished?"
   ]
  },
  {
   "cell_type": "code",
   "execution_count": 15,
   "metadata": {},
   "outputs": [
    {
     "data": {
      "text/plain": [
       "False    3988\n",
       "True       18\n",
       "Name: airing, dtype: int64"
      ]
     },
     "execution_count": 15,
     "metadata": {},
     "output_type": "execute_result"
    }
   ],
   "source": [
    "anime[anime['source'] == 'Unknown']['airing'].value_counts()"
   ]
  },
  {
   "cell_type": "markdown",
   "metadata": {},
   "source": [
    "Yeah, that is right. We also notice that, the aired date of these animes are quite old. Maybe they are outdated animes and only a few audiences watch them?"
   ]
  },
  {
   "cell_type": "markdown",
   "metadata": {},
   "source": [
    "Well, let's extract the airing time and see if there is any pattern for the `Unknown` source animes. First of all, we know that ther are at least 18 animes are airing, so there must be some `NaN` or `None` timestamp. Let check the type of the elements:\n",
    "    "
   ]
  },
  {
   "cell_type": "code",
   "execution_count": 16,
   "metadata": {},
   "outputs": [
    {
     "name": "stdout",
     "output_type": "stream",
     "text": [
      "{'from': '2012-01-13', 'to': '2012-03-30'}\n"
     ]
    },
    {
     "data": {
      "text/plain": [
       "str"
      ]
     },
     "execution_count": 16,
     "metadata": {},
     "output_type": "execute_result"
    }
   ],
   "source": [
    "print(anime['aired'].iloc[0])\n",
    "type(anime['aired'].iloc[0])"
   ]
  },
  {
   "cell_type": "markdown",
   "metadata": {},
   "source": [
    "Indeed every entry of this column is a `str` type. But we can change this into a `dict` type, where the key `from` indicate the started airing time and `to` show the finishing time."
   ]
  },
  {
   "cell_type": "markdown",
   "metadata": {},
   "source": [
    "We would try to check if there is any `NaN` value in the `aired` column"
   ]
  },
  {
   "cell_type": "code",
   "execution_count": 17,
   "metadata": {},
   "outputs": [
    {
     "data": {
      "text/plain": [
       "False"
      ]
     },
     "execution_count": 17,
     "metadata": {},
     "output_type": "execute_result"
    }
   ],
   "source": [
    "anime['aired'].isna().any()"
   ]
  },
  {
   "cell_type": "markdown",
   "metadata": {},
   "source": [
    "Wow, there is no `NaN` value. That means all the entries are filler, but they can be a `None` timestamp."
   ]
  },
  {
   "cell_type": "markdown",
   "metadata": {},
   "source": [
    "That's great! Now we can change all the `str` to `dict` using a built-in function: `ast.literal_eval`"
   ]
  },
  {
   "cell_type": "code",
   "execution_count": 18,
   "metadata": {},
   "outputs": [
    {
     "data": {
      "text/plain": [
       "dict"
      ]
     },
     "execution_count": 18,
     "metadata": {},
     "output_type": "execute_result"
    }
   ],
   "source": [
    "#Using built-in function ast.literal_eval to convert a string dict to a dict\n",
    "import ast\n",
    "anime['aired'] = anime['aired'].apply(ast.literal_eval)\n",
    "#Check the type\n",
    "type(anime['aired'].iloc[0])"
   ]
  },
  {
   "cell_type": "markdown",
   "metadata": {},
   "source": [
    "Now we will try to extract the beginning and the ending time of all the animes, so that we can ivestigate them later."
   ]
  },
  {
   "cell_type": "code",
   "execution_count": 19,
   "metadata": {},
   "outputs": [
    {
     "data": {
      "text/plain": [
       "0        2012-01-13\n",
       "1        2007-04-02\n",
       "2        2008-10-04\n",
       "3        2002-08-16\n",
       "4        2012-10-06\n",
       "            ...    \n",
       "14473    1987-11-05\n",
       "14474    1986-03-21\n",
       "14475          None\n",
       "14476          None\n",
       "14477    2010-04-07\n",
       "Name: start, Length: 13629, dtype: object"
      ]
     },
     "execution_count": 19,
     "metadata": {},
     "output_type": "execute_result"
    }
   ],
   "source": [
    "# def extract_start(anime):\n",
    "#     return anime['from']\n",
    "\n",
    "# def extract_end(anime):\n",
    "#     return anime['to']\n",
    "\n",
    "# start = pd.Series(np.vectorize(extract_start)(anime['aired']))\n",
    "# end = pd.Series(np.vectorize(extract_end)(anime['aired']))\n",
    "\n",
    "\n",
    "start = anime['aired'].apply(lambda anime: anime['from'])\n",
    "end = anime['aired'].apply(lambda anime: anime['to'])\n",
    "\n",
    "start.name = 'start'\n",
    "end.name = 'end'\n",
    "anime = pd.concat([anime, start, end], axis = 1)\n",
    "start"
   ]
  },
  {
   "cell_type": "code",
   "execution_count": 20,
   "metadata": {},
   "outputs": [
    {
     "data": {
      "text/plain": [
       "Index(['anime_id', 'title', 'type', 'source', 'episodes', 'status', 'airing',\n",
       "       'aired_string', 'aired', 'duration', 'rating', 'score', 'scored_by',\n",
       "       'rank', 'popularity', 'members', 'favorites', 'background', 'premiered',\n",
       "       'broadcast', 'related', 'producer', 'licensor', 'studio', 'genre',\n",
       "       'opening_theme', 'ending_theme', 'start', 'end'],\n",
       "      dtype='object')"
      ]
     },
     "execution_count": 20,
     "metadata": {},
     "output_type": "execute_result"
    }
   ],
   "source": [
    "anime = anime.rename(columns={0: 'start', 1: 'end'})\n",
    "anime.columns"
   ]
  },
  {
   "cell_type": "markdown",
   "metadata": {},
   "source": [
    "Let's convert all the values of the 2 newly created columns to `timedate` type."
   ]
  },
  {
   "cell_type": "code",
   "execution_count": 21,
   "metadata": {},
   "outputs": [],
   "source": [
    "anime['start'] = pd.to_datetime(anime[anime['start'] != 'None']['start'])\n",
    "anime['end'] = pd.to_datetime(anime[anime['end'] != 'None']['end'])"
   ]
  },
  {
   "cell_type": "markdown",
   "metadata": {},
   "source": [
    "Now, we can drop the `aired` column and start to investigate the `Unknown` source animes."
   ]
  },
  {
   "cell_type": "code",
   "execution_count": 22,
   "metadata": {},
   "outputs": [],
   "source": [
    "anime = anime.drop(columns='aired')\n"
   ]
  },
  {
   "cell_type": "code",
   "execution_count": 23,
   "metadata": {},
   "outputs": [
    {
     "name": "stdout",
     "output_type": "stream",
     "text": [
      "Mean starting year: 1998.3289669544508\n",
      "Std starting year: 12.486102954042744\n",
      "Mean end year: 1998.6612661266126\n",
      "Std end year: 12.462531713731705\n"
     ]
    }
   ],
   "source": [
    "print(\"Mean starting year:\",anime[anime['source'] == 'Unknown']['start'].dt.year.mean())\n",
    "print(\"Std starting year:\",anime[anime['source'] == 'Unknown']['start'].dt.year.std())\n",
    "\n",
    "print(\"Mean end year:\",anime[anime['source'] == 'Unknown']['end'].dt.year.mean())\n",
    "print(\"Std end year:\",anime[anime['source'] == 'Unknown']['end'].dt.year.std())"
   ]
  },
  {
   "cell_type": "code",
   "execution_count": 24,
   "metadata": {},
   "outputs": [
    {
     "data": {
      "image/png": "[encoded data removed]",
      "text/plain": [
       "<Figure size 1800x432 with 1 Axes>"
      ]
     },
     "metadata": {
      "needs_background": "light"
     },
     "output_type": "display_data"
    }
   ],
   "source": [
    "plt.figure(figsize=(25,6))\n",
    "plt.grid(color='white', lw = 0.5, axis = 'x')\n",
    "n, bins, patches= plt.hist(anime[anime['source'] == 'Unknown']['start'].dt.year,bins='rice',)\n",
    "plt.xticks(bins)\n",
    "plt.title(\"Start airing year of Unknown source animes\")\n",
    "plt.show()"
   ]
  },
  {
   "cell_type": "code",
   "execution_count": 25,
   "metadata": {},
   "outputs": [
    {
     "data": {
      "image/png": "[encoded data removed]",
      "text/plain": [
       "<Figure size 1800x432 with 1 Axes>"
      ]
     },
     "metadata": {
      "needs_background": "light"
     },
     "output_type": "display_data"
    }
   ],
   "source": [
    "plt.figure(figsize=(25,6))\n",
    "plt.grid(color='white', lw = 0.5, axis = 'x')\n",
    "n, bins, patches= plt.hist(anime[anime['source'] == 'Unknown']['end'].dt.year,bins='rice',)\n",
    "plt.xticks(bins)\n",
    "plt.title(\"Ending airing year of Unknown source animes\")\n",
    "plt.show()"
   ]
  },
  {
   "cell_type": "markdown",
   "metadata": {},
   "source": [
    "We can see that almost `Unknown` animes are from the 2000s. We can check their popularity next."
   ]
  },
  {
   "cell_type": "code",
   "execution_count": 26,
   "metadata": {},
   "outputs": [
    {
     "data": {
      "text/html": [
       "<div>\n",
       "<style scoped>\n",
       "    .dataframe tbody tr th:only-of-type {\n",
       "        vertical-align: middle;\n",
       "    }\n",
       "\n",
       "    .dataframe tbody tr th {\n",
       "        vertical-align: top;\n",
       "    }\n",
       "\n",
       "    .dataframe thead th {\n",
       "        text-align: right;\n",
       "    }\n",
       "</style>\n",
       "<table border=\"1\" class=\"dataframe\">\n",
       "  <thead>\n",
       "    <tr style=\"text-align: right;\">\n",
       "      <th></th>\n",
       "      <th>anime_id</th>\n",
       "      <th>episodes</th>\n",
       "      <th>score</th>\n",
       "      <th>scored_by</th>\n",
       "      <th>rank</th>\n",
       "      <th>popularity</th>\n",
       "      <th>members</th>\n",
       "      <th>favorites</th>\n",
       "    </tr>\n",
       "  </thead>\n",
       "  <tbody>\n",
       "    <tr>\n",
       "      <th>count</th>\n",
       "      <td>4006.000000</td>\n",
       "      <td>4006.000000</td>\n",
       "      <td>4006.000000</td>\n",
       "      <td>4006.000000</td>\n",
       "      <td>3720.000000</td>\n",
       "      <td>4006.000000</td>\n",
       "      <td>4006.000000</td>\n",
       "      <td>4006.000000</td>\n",
       "    </tr>\n",
       "    <tr>\n",
       "      <th>mean</th>\n",
       "      <td>14495.867199</td>\n",
       "      <td>12.346980</td>\n",
       "      <td>5.990734</td>\n",
       "      <td>869.914378</td>\n",
       "      <td>8061.502419</td>\n",
       "      <td>9463.872192</td>\n",
       "      <td>2003.205941</td>\n",
       "      <td>3.875187</td>\n",
       "    </tr>\n",
       "    <tr>\n",
       "      <th>std</th>\n",
       "      <td>10396.302970</td>\n",
       "      <td>56.798427</td>\n",
       "      <td>0.943986</td>\n",
       "      <td>2621.771605</td>\n",
       "      <td>3182.565618</td>\n",
       "      <td>2998.377082</td>\n",
       "      <td>5051.930021</td>\n",
       "      <td>14.503360</td>\n",
       "    </tr>\n",
       "    <tr>\n",
       "      <th>min</th>\n",
       "      <td>88.000000</td>\n",
       "      <td>0.000000</td>\n",
       "      <td>0.000000</td>\n",
       "      <td>0.000000</td>\n",
       "      <td>0.000000</td>\n",
       "      <td>0.000000</td>\n",
       "      <td>0.000000</td>\n",
       "      <td>0.000000</td>\n",
       "    </tr>\n",
       "    <tr>\n",
       "      <th>25%</th>\n",
       "      <td>4823.250000</td>\n",
       "      <td>1.000000</td>\n",
       "      <td>5.460000</td>\n",
       "      <td>23.000000</td>\n",
       "      <td>5714.750000</td>\n",
       "      <td>7382.500000</td>\n",
       "      <td>149.000000</td>\n",
       "      <td>0.000000</td>\n",
       "    </tr>\n",
       "    <tr>\n",
       "      <th>50%</th>\n",
       "      <td>11744.000000</td>\n",
       "      <td>1.000000</td>\n",
       "      <td>6.080000</td>\n",
       "      <td>97.000000</td>\n",
       "      <td>8395.500000</td>\n",
       "      <td>9920.500000</td>\n",
       "      <td>402.000000</td>\n",
       "      <td>0.000000</td>\n",
       "    </tr>\n",
       "    <tr>\n",
       "      <th>75%</th>\n",
       "      <td>23708.500000</td>\n",
       "      <td>6.000000</td>\n",
       "      <td>6.590000</td>\n",
       "      <td>558.000000</td>\n",
       "      <td>10778.000000</td>\n",
       "      <td>11967.000000</td>\n",
       "      <td>1544.750000</td>\n",
       "      <td>2.000000</td>\n",
       "    </tr>\n",
       "    <tr>\n",
       "      <th>max</th>\n",
       "      <td>37908.000000</td>\n",
       "      <td>1565.000000</td>\n",
       "      <td>9.200000</td>\n",
       "      <td>42089.000000</td>\n",
       "      <td>12919.000000</td>\n",
       "      <td>14486.000000</td>\n",
       "      <td>70492.000000</td>\n",
       "      <td>282.000000</td>\n",
       "    </tr>\n",
       "  </tbody>\n",
       "</table>\n",
       "</div>"
      ],
      "text/plain": [
       "           anime_id     episodes        score     scored_by          rank  \\\n",
       "count   4006.000000  4006.000000  4006.000000   4006.000000   3720.000000   \n",
       "mean   14495.867199    12.346980     5.990734    869.914378   8061.502419   \n",
       "std    10396.302970    56.798427     0.943986   2621.771605   3182.565618   \n",
       "min       88.000000     0.000000     0.000000      0.000000      0.000000   \n",
       "25%     4823.250000     1.000000     5.460000     23.000000   5714.750000   \n",
       "50%    11744.000000     1.000000     6.080000     97.000000   8395.500000   \n",
       "75%    23708.500000     6.000000     6.590000    558.000000  10778.000000   \n",
       "max    37908.000000  1565.000000     9.200000  42089.000000  12919.000000   \n",
       "\n",
       "         popularity       members    favorites  \n",
       "count   4006.000000   4006.000000  4006.000000  \n",
       "mean    9463.872192   2003.205941     3.875187  \n",
       "std     2998.377082   5051.930021    14.503360  \n",
       "min        0.000000      0.000000     0.000000  \n",
       "25%     7382.500000    149.000000     0.000000  \n",
       "50%     9920.500000    402.000000     0.000000  \n",
       "75%    11967.000000   1544.750000     2.000000  \n",
       "max    14486.000000  70492.000000   282.000000  "
      ]
     },
     "execution_count": 26,
     "metadata": {},
     "output_type": "execute_result"
    }
   ],
   "source": [
    "anime[anime['source'] == 'Unknown'].describe()"
   ]
  },
  {
   "cell_type": "markdown",
   "metadata": {},
   "source": [
    "There is a strange detail in this table. Not the 0s at the `min` row of the columns `episodes`, `scored_by`, `rank`, `popularity`, `members`, `favorites` (we will filter these 0s later), but there is an anime with a very high `score`: 9.2. We will investigate this anime."
   ]
  },
  {
   "cell_type": "code",
   "execution_count": 28,
   "metadata": {},
   "outputs": [
    {
     "data": {
      "text/plain": [
       "anime_id                     26145\n",
       "title            Okaachan Gomen ne\n",
       "type                         Movie\n",
       "source                     Unknown\n",
       "episodes                         1\n",
       "status             Finished Airing\n",
       "airing                       False\n",
       "aired_string                  1985\n",
       "duration                   26 min.\n",
       "rating                G - All Ages\n",
       "score                          9.2\n",
       "scored_by                        5\n",
       "rank                       11595.0\n",
       "popularity                   13561\n",
       "members                         73\n",
       "favorites                        0\n",
       "background                     NaN\n",
       "premiered                      NaN\n",
       "broadcast                      NaN\n",
       "related                         []\n",
       "producer                       NaN\n",
       "licensor                       NaN\n",
       "studio                         NaN\n",
       "genre             Historical, Kids\n",
       "opening_theme                   []\n",
       "ending_theme                    []\n",
       "start                          NaT\n",
       "end                            NaT\n",
       "Name: 3129, dtype: object"
      ]
     },
     "execution_count": 28,
     "metadata": {},
     "output_type": "execute_result"
    }
   ],
   "source": [
    "anime.loc[anime[anime['source'] == 'Unknown']['score'].idxmax()]"
   ]
  },
  {
   "cell_type": "markdown",
   "metadata": {},
   "source": [
    "Almost all values of the anime are `NaN`. There are only 5 people score this anime. There are approximately 14000 animes in this dataset, but the `ranking` and `popularity` of this anime is very low, around 13500. Additionally, this anime is from 1985, which means it is very old, so that nobody remembers about it. Therefore, this anime is overrated by the users."
   ]
  },
  {
   "cell_type": "code",
   "execution_count": null,
   "metadata": {},
   "outputs": [],
   "source": []
  }
 ],
 "metadata": {
  "interpreter": {
   "hash": "03988a1ca043f8de028458af3ae7880dfad49af43b42a438805c5fa18f8ac071"
  },
  "kernelspec": {
   "display_name": "Python 3 (ipykernel)",
   "language": "python",
   "name": "python3"
  },
  "language_info": {
   "codemirror_mode": {
    "name": "ipython",
    "version": 3
   },
   "file_extension": ".py",
   "mimetype": "text/x-python",
   "name": "python",
   "nbconvert_exporter": "python",
   "pygments_lexer": "ipython3",
   "version": "3.8.11"
  }
 },
 "nbformat": 4,
 "nbformat_minor": 2
}
