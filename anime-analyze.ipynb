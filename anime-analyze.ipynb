{
 "cells": [
  {
   "cell_type": "code",
   "execution_count": 1,
   "source": [
    "import pandas as pd\n",
    "import numpy as np\n",
    "from IPython.display import Image"
   ],
   "outputs": [],
   "metadata": {}
  },
  {
   "cell_type": "code",
   "execution_count": 8,
   "source": [
    "anime = pd.read_csv(\"./Data/AnimeList.csv\")\n",
    "anime.head()"
   ],
   "outputs": [
    {
     "output_type": "execute_result",
     "data": {
      "text/html": [
       "<div>\n",
       "<style scoped>\n",
       "    .dataframe tbody tr th:only-of-type {\n",
       "        vertical-align: middle;\n",
       "    }\n",
       "\n",
       "    .dataframe tbody tr th {\n",
       "        vertical-align: top;\n",
       "    }\n",
       "\n",
       "    .dataframe thead th {\n",
       "        text-align: right;\n",
       "    }\n",
       "</style>\n",
       "<table border=\"1\" class=\"dataframe\">\n",
       "  <thead>\n",
       "    <tr style=\"text-align: right;\">\n",
       "      <th></th>\n",
       "      <th>anime_id</th>\n",
       "      <th>title</th>\n",
       "      <th>title_english</th>\n",
       "      <th>title_japanese</th>\n",
       "      <th>title_synonyms</th>\n",
       "      <th>image_url</th>\n",
       "      <th>type</th>\n",
       "      <th>source</th>\n",
       "      <th>episodes</th>\n",
       "      <th>status</th>\n",
       "      <th>...</th>\n",
       "      <th>background</th>\n",
       "      <th>premiered</th>\n",
       "      <th>broadcast</th>\n",
       "      <th>related</th>\n",
       "      <th>producer</th>\n",
       "      <th>licensor</th>\n",
       "      <th>studio</th>\n",
       "      <th>genre</th>\n",
       "      <th>opening_theme</th>\n",
       "      <th>ending_theme</th>\n",
       "    </tr>\n",
       "  </thead>\n",
       "  <tbody>\n",
       "    <tr>\n",
       "      <th>0</th>\n",
       "      <td>11013</td>\n",
       "      <td>Inu x Boku SS</td>\n",
       "      <td>Inu X Boku Secret Service</td>\n",
       "      <td>妖狐×僕SS</td>\n",
       "      <td>Youko x Boku SS</td>\n",
       "      <td>https://myanimelist.cdn-dena.com/images/anime/...</td>\n",
       "      <td>TV</td>\n",
       "      <td>Manga</td>\n",
       "      <td>12</td>\n",
       "      <td>Finished Airing</td>\n",
       "      <td>...</td>\n",
       "      <td>Inu x Boku SS was licensed by Sentai Filmworks...</td>\n",
       "      <td>Winter 2012</td>\n",
       "      <td>Fridays at Unknown</td>\n",
       "      <td>{'Adaptation': [{'mal_id': 17207, 'type': 'man...</td>\n",
       "      <td>Aniplex, Square Enix, Mainichi Broadcasting Sy...</td>\n",
       "      <td>Sentai Filmworks</td>\n",
       "      <td>David Production</td>\n",
       "      <td>Comedy, Supernatural, Romance, Shounen</td>\n",
       "      <td>['\"Nirvana\" by MUCC']</td>\n",
       "      <td>['#1: \"Nirvana\" by MUCC (eps 1, 11-12)', '#2: ...</td>\n",
       "    </tr>\n",
       "    <tr>\n",
       "      <th>1</th>\n",
       "      <td>2104</td>\n",
       "      <td>Seto no Hanayome</td>\n",
       "      <td>My Bride is a Mermaid</td>\n",
       "      <td>瀬戸の花嫁</td>\n",
       "      <td>The Inland Sea Bride</td>\n",
       "      <td>https://myanimelist.cdn-dena.com/images/anime/...</td>\n",
       "      <td>TV</td>\n",
       "      <td>Manga</td>\n",
       "      <td>26</td>\n",
       "      <td>Finished Airing</td>\n",
       "      <td>...</td>\n",
       "      <td>NaN</td>\n",
       "      <td>Spring 2007</td>\n",
       "      <td>Unknown</td>\n",
       "      <td>{'Adaptation': [{'mal_id': 759, 'type': 'manga...</td>\n",
       "      <td>TV Tokyo, AIC, Square Enix, Sotsu</td>\n",
       "      <td>Funimation</td>\n",
       "      <td>Gonzo</td>\n",
       "      <td>Comedy, Parody, Romance, School, Shounen</td>\n",
       "      <td>['\"Romantic summer\" by SUN&amp;LUNAR']</td>\n",
       "      <td>['#1: \"Ashita e no Hikari (明日への光)\" by Asuka Hi...</td>\n",
       "    </tr>\n",
       "    <tr>\n",
       "      <th>2</th>\n",
       "      <td>5262</td>\n",
       "      <td>Shugo Chara!! Doki</td>\n",
       "      <td>Shugo Chara!! Doki</td>\n",
       "      <td>しゅごキャラ！！どきっ</td>\n",
       "      <td>Shugo Chara Ninenme, Shugo Chara! Second Year</td>\n",
       "      <td>https://myanimelist.cdn-dena.com/images/anime/...</td>\n",
       "      <td>TV</td>\n",
       "      <td>Manga</td>\n",
       "      <td>51</td>\n",
       "      <td>Finished Airing</td>\n",
       "      <td>...</td>\n",
       "      <td>NaN</td>\n",
       "      <td>Fall 2008</td>\n",
       "      <td>Unknown</td>\n",
       "      <td>{'Adaptation': [{'mal_id': 101, 'type': 'manga...</td>\n",
       "      <td>TV Tokyo, Sotsu</td>\n",
       "      <td>NaN</td>\n",
       "      <td>Satelight</td>\n",
       "      <td>Comedy, Magic, School, Shoujo</td>\n",
       "      <td>['#1: \"Minna no Tamago (みんなのたまご)\" by Shugo Cha...</td>\n",
       "      <td>['#1: \"Rottara Rottara (ロッタラ ロッタラ)\" by Buono! ...</td>\n",
       "    </tr>\n",
       "    <tr>\n",
       "      <th>3</th>\n",
       "      <td>721</td>\n",
       "      <td>Princess Tutu</td>\n",
       "      <td>Princess Tutu</td>\n",
       "      <td>プリンセスチュチュ</td>\n",
       "      <td>NaN</td>\n",
       "      <td>https://myanimelist.cdn-dena.com/images/anime/...</td>\n",
       "      <td>TV</td>\n",
       "      <td>Original</td>\n",
       "      <td>38</td>\n",
       "      <td>Finished Airing</td>\n",
       "      <td>...</td>\n",
       "      <td>Princess Tutu aired in two parts. The first pa...</td>\n",
       "      <td>Summer 2002</td>\n",
       "      <td>Fridays at Unknown</td>\n",
       "      <td>{'Adaptation': [{'mal_id': 1581, 'type': 'mang...</td>\n",
       "      <td>Memory-Tech, GANSIS, Marvelous AQL</td>\n",
       "      <td>ADV Films</td>\n",
       "      <td>Hal Film Maker</td>\n",
       "      <td>Comedy, Drama, Magic, Romance, Fantasy</td>\n",
       "      <td>['\"Morning Grace\" by Ritsuko Okazaki']</td>\n",
       "      <td>['\"Watashi No Ai Wa Chiisaikeredo\" by Ritsuko ...</td>\n",
       "    </tr>\n",
       "    <tr>\n",
       "      <th>4</th>\n",
       "      <td>12365</td>\n",
       "      <td>Bakuman. 3rd Season</td>\n",
       "      <td>Bakuman.</td>\n",
       "      <td>バクマン。</td>\n",
       "      <td>Bakuman Season 3</td>\n",
       "      <td>https://myanimelist.cdn-dena.com/images/anime/...</td>\n",
       "      <td>TV</td>\n",
       "      <td>Manga</td>\n",
       "      <td>25</td>\n",
       "      <td>Finished Airing</td>\n",
       "      <td>...</td>\n",
       "      <td>NaN</td>\n",
       "      <td>Fall 2012</td>\n",
       "      <td>Unknown</td>\n",
       "      <td>{'Adaptation': [{'mal_id': 9711, 'type': 'mang...</td>\n",
       "      <td>NHK, Shueisha</td>\n",
       "      <td>NaN</td>\n",
       "      <td>J.C.Staff</td>\n",
       "      <td>Comedy, Drama, Romance, Shounen</td>\n",
       "      <td>['#1: \"Moshimo no Hanashi (もしもの話)\" by nano.RIP...</td>\n",
       "      <td>['#1: \"Pride on Everyday\" by Sphere (eps 1-13)...</td>\n",
       "    </tr>\n",
       "  </tbody>\n",
       "</table>\n",
       "<p>5 rows × 31 columns</p>\n",
       "</div>"
      ],
      "text/plain": [
       "   anime_id                title              title_english title_japanese  \\\n",
       "0     11013        Inu x Boku SS  Inu X Boku Secret Service         妖狐×僕SS   \n",
       "1      2104     Seto no Hanayome      My Bride is a Mermaid          瀬戸の花嫁   \n",
       "2      5262   Shugo Chara!! Doki         Shugo Chara!! Doki    しゅごキャラ！！どきっ   \n",
       "3       721        Princess Tutu              Princess Tutu      プリンセスチュチュ   \n",
       "4     12365  Bakuman. 3rd Season                   Bakuman.          バクマン。   \n",
       "\n",
       "                                  title_synonyms  \\\n",
       "0                                Youko x Boku SS   \n",
       "1                           The Inland Sea Bride   \n",
       "2  Shugo Chara Ninenme, Shugo Chara! Second Year   \n",
       "3                                            NaN   \n",
       "4                               Bakuman Season 3   \n",
       "\n",
       "                                           image_url type    source  episodes  \\\n",
       "0  https://myanimelist.cdn-dena.com/images/anime/...   TV     Manga        12   \n",
       "1  https://myanimelist.cdn-dena.com/images/anime/...   TV     Manga        26   \n",
       "2  https://myanimelist.cdn-dena.com/images/anime/...   TV     Manga        51   \n",
       "3  https://myanimelist.cdn-dena.com/images/anime/...   TV  Original        38   \n",
       "4  https://myanimelist.cdn-dena.com/images/anime/...   TV     Manga        25   \n",
       "\n",
       "            status  ...                                         background  \\\n",
       "0  Finished Airing  ...  Inu x Boku SS was licensed by Sentai Filmworks...   \n",
       "1  Finished Airing  ...                                                NaN   \n",
       "2  Finished Airing  ...                                                NaN   \n",
       "3  Finished Airing  ...  Princess Tutu aired in two parts. The first pa...   \n",
       "4  Finished Airing  ...                                                NaN   \n",
       "\n",
       "     premiered           broadcast  \\\n",
       "0  Winter 2012  Fridays at Unknown   \n",
       "1  Spring 2007             Unknown   \n",
       "2    Fall 2008             Unknown   \n",
       "3  Summer 2002  Fridays at Unknown   \n",
       "4    Fall 2012             Unknown   \n",
       "\n",
       "                                             related  \\\n",
       "0  {'Adaptation': [{'mal_id': 17207, 'type': 'man...   \n",
       "1  {'Adaptation': [{'mal_id': 759, 'type': 'manga...   \n",
       "2  {'Adaptation': [{'mal_id': 101, 'type': 'manga...   \n",
       "3  {'Adaptation': [{'mal_id': 1581, 'type': 'mang...   \n",
       "4  {'Adaptation': [{'mal_id': 9711, 'type': 'mang...   \n",
       "\n",
       "                                            producer          licensor  \\\n",
       "0  Aniplex, Square Enix, Mainichi Broadcasting Sy...  Sentai Filmworks   \n",
       "1                  TV Tokyo, AIC, Square Enix, Sotsu        Funimation   \n",
       "2                                    TV Tokyo, Sotsu               NaN   \n",
       "3                 Memory-Tech, GANSIS, Marvelous AQL         ADV Films   \n",
       "4                                      NHK, Shueisha               NaN   \n",
       "\n",
       "             studio                                     genre  \\\n",
       "0  David Production    Comedy, Supernatural, Romance, Shounen   \n",
       "1             Gonzo  Comedy, Parody, Romance, School, Shounen   \n",
       "2         Satelight             Comedy, Magic, School, Shoujo   \n",
       "3    Hal Film Maker    Comedy, Drama, Magic, Romance, Fantasy   \n",
       "4         J.C.Staff           Comedy, Drama, Romance, Shounen   \n",
       "\n",
       "                                       opening_theme  \\\n",
       "0                              ['\"Nirvana\" by MUCC']   \n",
       "1                 ['\"Romantic summer\" by SUN&LUNAR']   \n",
       "2  ['#1: \"Minna no Tamago (みんなのたまご)\" by Shugo Cha...   \n",
       "3             ['\"Morning Grace\" by Ritsuko Okazaki']   \n",
       "4  ['#1: \"Moshimo no Hanashi (もしもの話)\" by nano.RIP...   \n",
       "\n",
       "                                        ending_theme  \n",
       "0  ['#1: \"Nirvana\" by MUCC (eps 1, 11-12)', '#2: ...  \n",
       "1  ['#1: \"Ashita e no Hikari (明日への光)\" by Asuka Hi...  \n",
       "2  ['#1: \"Rottara Rottara (ロッタラ ロッタラ)\" by Buono! ...  \n",
       "3  ['\"Watashi No Ai Wa Chiisaikeredo\" by Ritsuko ...  \n",
       "4  ['#1: \"Pride on Everyday\" by Sphere (eps 1-13)...  \n",
       "\n",
       "[5 rows x 31 columns]"
      ]
     },
     "metadata": {},
     "execution_count": 8
    }
   ],
   "metadata": {}
  },
  {
   "cell_type": "code",
   "execution_count": 3,
   "source": [
    "anime.info()"
   ],
   "outputs": [
    {
     "output_type": "stream",
     "name": "stdout",
     "text": [
      "<class 'pandas.core.frame.DataFrame'>\n",
      "RangeIndex: 14478 entries, 0 to 14477\n",
      "Data columns (total 31 columns):\n",
      " #   Column          Non-Null Count  Dtype  \n",
      "---  ------          --------------  -----  \n",
      " 0   anime_id        14478 non-null  int64  \n",
      " 1   title           14478 non-null  object \n",
      " 2   title_english   5724 non-null   object \n",
      " 3   title_japanese  14443 non-null  object \n",
      " 4   title_synonyms  8937 non-null   object \n",
      " 5   image_url       14382 non-null  object \n",
      " 6   type            14478 non-null  object \n",
      " 7   source          14478 non-null  object \n",
      " 8   episodes        14478 non-null  int64  \n",
      " 9   status          14478 non-null  object \n",
      " 10  airing          14478 non-null  bool   \n",
      " 11  aired_string    14478 non-null  object \n",
      " 12  aired           14478 non-null  object \n",
      " 13  duration        14478 non-null  object \n",
      " 14  rating          14478 non-null  object \n",
      " 15  score           14478 non-null  float64\n",
      " 16  scored_by       14478 non-null  int64  \n",
      " 17  rank            12904 non-null  float64\n",
      " 18  popularity      14478 non-null  int64  \n",
      " 19  members         14478 non-null  int64  \n",
      " 20  favorites       14478 non-null  int64  \n",
      " 21  background      1057 non-null   object \n",
      " 22  premiered       4096 non-null   object \n",
      " 23  broadcast       4271 non-null   object \n",
      " 24  related         14478 non-null  object \n",
      " 25  producer        8288 non-null   object \n",
      " 26  licensor        3373 non-null   object \n",
      " 27  studio          8544 non-null   object \n",
      " 28  genre           14414 non-null  object \n",
      " 29  opening_theme   14478 non-null  object \n",
      " 30  ending_theme    14478 non-null  object \n",
      "dtypes: bool(1), float64(2), int64(6), object(22)\n",
      "memory usage: 3.3+ MB\n"
     ]
    }
   ],
   "metadata": {}
  },
  {
   "cell_type": "code",
   "execution_count": 4,
   "source": [
    "anime.columns"
   ],
   "outputs": [
    {
     "output_type": "execute_result",
     "data": {
      "text/plain": [
       "Index(['anime_id', 'title', 'title_english', 'title_japanese',\n",
       "       'title_synonyms', 'image_url', 'type', 'source', 'episodes', 'status',\n",
       "       'airing', 'aired_string', 'aired', 'duration', 'rating', 'score',\n",
       "       'scored_by', 'rank', 'popularity', 'members', 'favorites', 'background',\n",
       "       'premiered', 'broadcast', 'related', 'producer', 'licensor', 'studio',\n",
       "       'genre', 'opening_theme', 'ending_theme'],\n",
       "      dtype='object')"
      ]
     },
     "metadata": {},
     "execution_count": 4
    }
   ],
   "metadata": {}
  },
  {
   "cell_type": "markdown",
   "source": [
    "Well, that's a lot! We should drop some columns"
   ],
   "metadata": {}
  },
  {
   "cell_type": "markdown",
   "source": [
    "I have already think of dropping the titles, image's URL, Opening and Ending theme since they are redundant and do not provide anything new about the animes. But what are the scored_by, popularity,etc?\n",
    "Let's learn about those columns directly from MyAnimeList and the data itself. "
   ],
   "metadata": {}
  },
  {
   "cell_type": "markdown",
   "source": [
    "Well, let's try to explain each column, one by one.\n",
    "\n",
    "First of all, the `anime_id` column is the unique ID for every anime on the list. It is a primary key to distinguish every anime to each other.\n",
    "\n",
    "The `title` column is the anime's names. Similarly, the `title_english`, `title_japanese`, `title_synonyms` are literaly the same to `title`, but they are in different languages and their synonyms, which implies they are redundant and we can safely drop them.\n",
    "\n",
    "The `image_url` points to the poster image of the anime. We can drop them since it is a link and it won't add any new information to the anime.\n",
    "\n",
    "There is the easy part, now we must browse our data for more information. \n",
    " "
   ],
   "metadata": {}
  },
  {
   "cell_type": "code",
   "execution_count": 12,
   "source": [
    "anime = anime.drop(columns=['title_english', 'title_japanese','title_synonyms','image_url'])\n",
    "anime.columns"
   ],
   "outputs": [
    {
     "output_type": "execute_result",
     "data": {
      "text/plain": [
       "Index(['anime_id', 'title', 'type', 'source', 'episodes', 'status', 'airing',\n",
       "       'aired_string', 'aired', 'duration', 'rating', 'score', 'scored_by',\n",
       "       'rank', 'popularity', 'members', 'favorites', 'background', 'premiered',\n",
       "       'broadcast', 'related', 'producer', 'licensor', 'studio', 'genre',\n",
       "       'opening_theme', 'ending_theme'],\n",
       "      dtype='object')"
      ]
     },
     "metadata": {},
     "execution_count": 12
    }
   ],
   "metadata": {}
  },
  {
   "cell_type": "markdown",
   "source": [
    "I guess the `type` column show what type that anime is. Is it TV or Movie or something else? Let's look at the database for more information."
   ],
   "metadata": {}
  },
  {
   "cell_type": "code",
   "execution_count": 5,
   "source": [
    "anime.type.unique()"
   ],
   "outputs": [
    {
     "output_type": "execute_result",
     "data": {
      "text/plain": [
       "array(['TV', 'Movie', 'Music', 'OVA', 'ONA', 'Special', 'Unknown'],\n",
       "      dtype=object)"
      ]
     },
     "metadata": {},
     "execution_count": 5
    }
   ],
   "metadata": {}
  },
  {
   "cell_type": "markdown",
   "source": [
    "Exactly! We can spot that there are 7 types of animes. But there is a \"weird\" type: `Unknown`. Is this a specific type or is this an abbreviate for the `NaN` value?\n",
    "\n",
    "According to MyAnimeList Search,\n",
    "\n",
    "![MAL Search](./Images/Anime_Types.png)\n",
    "\n",
    "there are only 5 types: `TV`, `Movie`, `OVA`, `ONA`, `Special`. So, what do `Music` and `Unknown` mean?\n",
    "\n",
    "Let take a look at `Unknown` first, since it is the most \"weird\" type."
   ],
   "metadata": {}
  },
  {
   "cell_type": "code",
   "execution_count": 6,
   "source": [
    "print(anime.type.isnull().any())\n",
    "print(anime.type.isna().any())\n",
    "anime[anime['type'] == 'Unknown'].head()"
   ],
   "outputs": [
    {
     "output_type": "stream",
     "name": "stdout",
     "text": [
      "False\n",
      "False\n"
     ]
    },
    {
     "output_type": "execute_result",
     "data": {
      "text/html": [
       "<div>\n",
       "<style scoped>\n",
       "    .dataframe tbody tr th:only-of-type {\n",
       "        vertical-align: middle;\n",
       "    }\n",
       "\n",
       "    .dataframe tbody tr th {\n",
       "        vertical-align: top;\n",
       "    }\n",
       "\n",
       "    .dataframe thead th {\n",
       "        text-align: right;\n",
       "    }\n",
       "</style>\n",
       "<table border=\"1\" class=\"dataframe\">\n",
       "  <thead>\n",
       "    <tr style=\"text-align: right;\">\n",
       "      <th></th>\n",
       "      <th>anime_id</th>\n",
       "      <th>title</th>\n",
       "      <th>title_english</th>\n",
       "      <th>title_japanese</th>\n",
       "      <th>title_synonyms</th>\n",
       "      <th>image_url</th>\n",
       "      <th>type</th>\n",
       "      <th>source</th>\n",
       "      <th>episodes</th>\n",
       "      <th>status</th>\n",
       "      <th>...</th>\n",
       "      <th>background</th>\n",
       "      <th>premiered</th>\n",
       "      <th>broadcast</th>\n",
       "      <th>related</th>\n",
       "      <th>producer</th>\n",
       "      <th>licensor</th>\n",
       "      <th>studio</th>\n",
       "      <th>genre</th>\n",
       "      <th>opening_theme</th>\n",
       "      <th>ending_theme</th>\n",
       "    </tr>\n",
       "  </thead>\n",
       "  <tbody>\n",
       "    <tr>\n",
       "      <th>187</th>\n",
       "      <td>35759</td>\n",
       "      <td>Sidonia no Kishi 3</td>\n",
       "      <td>Knights of Sidonia</td>\n",
       "      <td>シドニアの騎士 3</td>\n",
       "      <td>NaN</td>\n",
       "      <td>https://myanimelist.cdn-dena.com/images/anime/...</td>\n",
       "      <td>Unknown</td>\n",
       "      <td>Manga</td>\n",
       "      <td>0</td>\n",
       "      <td>Not yet aired</td>\n",
       "      <td>...</td>\n",
       "      <td>NaN</td>\n",
       "      <td>NaN</td>\n",
       "      <td>NaN</td>\n",
       "      <td>{'Adaptation': [{'mal_id': 13723, 'type': 'man...</td>\n",
       "      <td>NaN</td>\n",
       "      <td>NaN</td>\n",
       "      <td>NaN</td>\n",
       "      <td>Action, Sci-Fi, Space, Mecha, Seinen</td>\n",
       "      <td>[]</td>\n",
       "      <td>[]</td>\n",
       "    </tr>\n",
       "    <tr>\n",
       "      <th>511</th>\n",
       "      <td>37651</td>\n",
       "      <td>Fate/Extra: Last Encore - Irusterias Tendouron</td>\n",
       "      <td>NaN</td>\n",
       "      <td>Fate/EXTRA Last Encore イルステリアス天動説</td>\n",
       "      <td>Fate/Extra: Last Encore - Irusterias Ptolemaic...</td>\n",
       "      <td>https://myanimelist.cdn-dena.com/images/anime/...</td>\n",
       "      <td>Unknown</td>\n",
       "      <td>Game</td>\n",
       "      <td>0</td>\n",
       "      <td>Not yet aired</td>\n",
       "      <td>...</td>\n",
       "      <td>NaN</td>\n",
       "      <td>NaN</td>\n",
       "      <td>NaN</td>\n",
       "      <td>{'Adaptation': [{'mal_id': 32425, 'type': 'man...</td>\n",
       "      <td>NaN</td>\n",
       "      <td>NaN</td>\n",
       "      <td>NaN</td>\n",
       "      <td>Action, Magic, Fantasy</td>\n",
       "      <td>[]</td>\n",
       "      <td>[]</td>\n",
       "    </tr>\n",
       "    <tr>\n",
       "      <th>1396</th>\n",
       "      <td>35252</td>\n",
       "      <td>Hatena☆Illusion</td>\n",
       "      <td>NaN</td>\n",
       "      <td>はてな☆イリュージョン</td>\n",
       "      <td>NaN</td>\n",
       "      <td>https://myanimelist.cdn-dena.com/images/anime/...</td>\n",
       "      <td>Unknown</td>\n",
       "      <td>Light novel</td>\n",
       "      <td>0</td>\n",
       "      <td>Not yet aired</td>\n",
       "      <td>...</td>\n",
       "      <td>NaN</td>\n",
       "      <td>NaN</td>\n",
       "      <td>NaN</td>\n",
       "      <td>{'Adaptation': [{'mal_id': 80851, 'type': 'man...</td>\n",
       "      <td>NaN</td>\n",
       "      <td>NaN</td>\n",
       "      <td>NaN</td>\n",
       "      <td>Comedy, Supernatural, Romance, Ecchi</td>\n",
       "      <td>[]</td>\n",
       "      <td>[]</td>\n",
       "    </tr>\n",
       "    <tr>\n",
       "      <th>1989</th>\n",
       "      <td>36407</td>\n",
       "      <td>Kenja no Mago</td>\n",
       "      <td>NaN</td>\n",
       "      <td>賢者の孫</td>\n",
       "      <td>Philosopher&amp;#039;s Grandson, Magi&amp;#039;s Grandson</td>\n",
       "      <td>https://myanimelist.cdn-dena.com/images/anime/...</td>\n",
       "      <td>Unknown</td>\n",
       "      <td>Light novel</td>\n",
       "      <td>0</td>\n",
       "      <td>Not yet aired</td>\n",
       "      <td>...</td>\n",
       "      <td>NaN</td>\n",
       "      <td>NaN</td>\n",
       "      <td>NaN</td>\n",
       "      <td>{'Adaptation': [{'mal_id': 90561, 'type': 'man...</td>\n",
       "      <td>NaN</td>\n",
       "      <td>NaN</td>\n",
       "      <td>NaN</td>\n",
       "      <td>Action, Comedy, Magic, Fantasy</td>\n",
       "      <td>[]</td>\n",
       "      <td>[]</td>\n",
       "    </tr>\n",
       "    <tr>\n",
       "      <th>2326</th>\n",
       "      <td>34649</td>\n",
       "      <td>Soukyuu no Fafner: Dead Aggressor - The Beyond</td>\n",
       "      <td>NaN</td>\n",
       "      <td>蒼穹のファフナー Dead Aggressor THE BEYOND</td>\n",
       "      <td>NaN</td>\n",
       "      <td>https://myanimelist.cdn-dena.com/images/anime/...</td>\n",
       "      <td>Unknown</td>\n",
       "      <td>Original</td>\n",
       "      <td>0</td>\n",
       "      <td>Not yet aired</td>\n",
       "      <td>...</td>\n",
       "      <td>NaN</td>\n",
       "      <td>NaN</td>\n",
       "      <td>NaN</td>\n",
       "      <td>{'Other': [{'mal_id': 75, 'type': 'anime', 'ur...</td>\n",
       "      <td>NaN</td>\n",
       "      <td>NaN</td>\n",
       "      <td>Xebec Zwei</td>\n",
       "      <td>Action, Military, Sci-Fi, Drama, Mecha</td>\n",
       "      <td>[]</td>\n",
       "      <td>[]</td>\n",
       "    </tr>\n",
       "  </tbody>\n",
       "</table>\n",
       "<p>5 rows × 31 columns</p>\n",
       "</div>"
      ],
      "text/plain": [
       "      anime_id                                           title  \\\n",
       "187      35759                              Sidonia no Kishi 3   \n",
       "511      37651  Fate/Extra: Last Encore - Irusterias Tendouron   \n",
       "1396     35252                                 Hatena☆Illusion   \n",
       "1989     36407                                   Kenja no Mago   \n",
       "2326     34649  Soukyuu no Fafner: Dead Aggressor - The Beyond   \n",
       "\n",
       "           title_english                      title_japanese  \\\n",
       "187   Knights of Sidonia                           シドニアの騎士 3   \n",
       "511                  NaN   Fate/EXTRA Last Encore イルステリアス天動説   \n",
       "1396                 NaN                         はてな☆イリュージョン   \n",
       "1989                 NaN                                賢者の孫   \n",
       "2326                 NaN  蒼穹のファフナー Dead Aggressor THE BEYOND   \n",
       "\n",
       "                                         title_synonyms  \\\n",
       "187                                                 NaN   \n",
       "511   Fate/Extra: Last Encore - Irusterias Ptolemaic...   \n",
       "1396                                                NaN   \n",
       "1989  Philosopher&#039;s Grandson, Magi&#039;s Grandson   \n",
       "2326                                                NaN   \n",
       "\n",
       "                                              image_url     type       source  \\\n",
       "187   https://myanimelist.cdn-dena.com/images/anime/...  Unknown        Manga   \n",
       "511   https://myanimelist.cdn-dena.com/images/anime/...  Unknown         Game   \n",
       "1396  https://myanimelist.cdn-dena.com/images/anime/...  Unknown  Light novel   \n",
       "1989  https://myanimelist.cdn-dena.com/images/anime/...  Unknown  Light novel   \n",
       "2326  https://myanimelist.cdn-dena.com/images/anime/...  Unknown     Original   \n",
       "\n",
       "      episodes         status  ...  background premiered broadcast  \\\n",
       "187          0  Not yet aired  ...         NaN       NaN       NaN   \n",
       "511          0  Not yet aired  ...         NaN       NaN       NaN   \n",
       "1396         0  Not yet aired  ...         NaN       NaN       NaN   \n",
       "1989         0  Not yet aired  ...         NaN       NaN       NaN   \n",
       "2326         0  Not yet aired  ...         NaN       NaN       NaN   \n",
       "\n",
       "                                                related producer  licensor  \\\n",
       "187   {'Adaptation': [{'mal_id': 13723, 'type': 'man...      NaN       NaN   \n",
       "511   {'Adaptation': [{'mal_id': 32425, 'type': 'man...      NaN       NaN   \n",
       "1396  {'Adaptation': [{'mal_id': 80851, 'type': 'man...      NaN       NaN   \n",
       "1989  {'Adaptation': [{'mal_id': 90561, 'type': 'man...      NaN       NaN   \n",
       "2326  {'Other': [{'mal_id': 75, 'type': 'anime', 'ur...      NaN       NaN   \n",
       "\n",
       "          studio                                   genre  opening_theme  \\\n",
       "187          NaN    Action, Sci-Fi, Space, Mecha, Seinen             []   \n",
       "511          NaN                  Action, Magic, Fantasy             []   \n",
       "1396         NaN    Comedy, Supernatural, Romance, Ecchi             []   \n",
       "1989         NaN          Action, Comedy, Magic, Fantasy             []   \n",
       "2326  Xebec Zwei  Action, Military, Sci-Fi, Drama, Mecha             []   \n",
       "\n",
       "      ending_theme  \n",
       "187             []  \n",
       "511             []  \n",
       "1396            []  \n",
       "1989            []  \n",
       "2326            []  \n",
       "\n",
       "[5 rows x 31 columns]"
      ]
     },
     "metadata": {},
     "execution_count": 6
    }
   ],
   "metadata": {}
  },
  {
   "cell_type": "markdown",
   "source": [
    "We can see that all the `Unknown` type animes are not aired yet. Thus, we do not have any information about these animes yet, except their name, their related anime/manga, their sources and their genres. We can consider to keep them, since they will show us the trend of future airing animes.\n",
    "\n",
    "Now, let take a look at `Music` type animes. "
   ],
   "metadata": {}
  },
  {
   "cell_type": "code",
   "execution_count": 9,
   "source": [
    "anime[anime['type'] == 'Music'].shape"
   ],
   "outputs": [
    {
     "output_type": "execute_result",
     "data": {
      "text/plain": [
       "(849, 31)"
      ]
     },
     "metadata": {},
     "execution_count": 9
    }
   ],
   "metadata": {}
  },
  {
   "cell_type": "markdown",
   "source": [
    "A few Google search show that all the `Music` type \"Anime\" are all music videos. It means that they are not related to our interest. We can drop all the `Music` type entries."
   ],
   "metadata": {}
  },
  {
   "cell_type": "code",
   "execution_count": 11,
   "source": [
    "anime = anime[anime['type'] != 'Music']\n",
    "anime.shape"
   ],
   "outputs": [
    {
     "output_type": "execute_result",
     "data": {
      "text/plain": [
       "(13629, 31)"
      ]
     },
     "metadata": {},
     "execution_count": 11
    }
   ],
   "metadata": {}
  },
  {
   "cell_type": "code",
   "execution_count": 13,
   "source": [
    "print(\"We check the columns of the dataset:\")\n",
    "anime.columns"
   ],
   "outputs": [
    {
     "output_type": "stream",
     "name": "stdout",
     "text": [
      "We check the columns of the dataset:\n"
     ]
    },
    {
     "output_type": "execute_result",
     "data": {
      "text/plain": [
       "Index(['anime_id', 'title', 'type', 'source', 'episodes', 'status', 'airing',\n",
       "       'aired_string', 'aired', 'duration', 'rating', 'score', 'scored_by',\n",
       "       'rank', 'popularity', 'members', 'favorites', 'background', 'premiered',\n",
       "       'broadcast', 'related', 'producer', 'licensor', 'studio', 'genre',\n",
       "       'opening_theme', 'ending_theme'],\n",
       "      dtype='object')"
      ]
     },
     "metadata": {},
     "execution_count": 13
    }
   ],
   "metadata": {}
  },
  {
   "cell_type": "markdown",
   "source": [
    "We can easily know that the `source` of the animes are Game, Manga or something similar to that. Let's check all the available source of the animes:"
   ],
   "metadata": {}
  },
  {
   "cell_type": "code",
   "execution_count": 14,
   "source": [
    "anime['source'].unique()"
   ],
   "outputs": [
    {
     "output_type": "execute_result",
     "data": {
      "text/plain": [
       "array(['Manga', 'Original', 'Light novel', '4-koma manga', 'Novel',\n",
       "       'Visual novel', 'Unknown', 'Other', 'Game', 'Picture book',\n",
       "       'Card game', 'Web manga', 'Book', 'Music', 'Radio',\n",
       "       'Digital manga'], dtype=object)"
      ]
     },
     "metadata": {},
     "execution_count": 14
    }
   ],
   "metadata": {}
  },
  {
   "cell_type": "markdown",
   "source": [
    "Easily, we can spot the `Unknown` source and may think that it is associated with the `Unknown` type of animes above. Let check that."
   ],
   "metadata": {}
  },
  {
   "cell_type": "code",
   "execution_count": 18,
   "source": [
    "anime[anime['type'] == 'Unknown']['source'].value_counts()"
   ],
   "outputs": [
    {
     "output_type": "execute_result",
     "data": {
      "text/plain": [
       "Original        10\n",
       "Manga            7\n",
       "Light novel      4\n",
       "Unknown          3\n",
       "Game             2\n",
       "4-koma manga     2\n",
       "Novel            1\n",
       "Other            1\n",
       "Name: source, dtype: int64"
      ]
     },
     "metadata": {},
     "execution_count": 18
    }
   ],
   "metadata": {}
  },
  {
   "cell_type": "markdown",
   "source": [
    "It seems that almost all `Unknown` type animes have their own source different than `Unknown`. Therefore, `Unknown` source and `Unknown` type is irrelevant to each other. That raise a question, what does `Unknown` source mean?\n",
    "\n",
    "First of all, let take a look at some `Unknown` source animes."
   ],
   "metadata": {}
  },
  {
   "cell_type": "code",
   "execution_count": 21,
   "source": [
    "anime[anime['source'] == 'Unknown'].shape"
   ],
   "outputs": [
    {
     "output_type": "execute_result",
     "data": {
      "text/plain": [
       "(4006, 27)"
      ]
     },
     "metadata": {},
     "execution_count": 21
    }
   ],
   "metadata": {}
  },
  {
   "cell_type": "markdown",
   "source": [
    "Wow, there are 4006 `Unknown` source animes! Let look at some of them:"
   ],
   "metadata": {}
  },
  {
   "cell_type": "code",
   "execution_count": 22,
   "source": [
    "anime[anime['source'] == 'Unknown'].head()"
   ],
   "outputs": [
    {
     "output_type": "execute_result",
     "data": {
      "text/html": [
       "<div>\n",
       "<style scoped>\n",
       "    .dataframe tbody tr th:only-of-type {\n",
       "        vertical-align: middle;\n",
       "    }\n",
       "\n",
       "    .dataframe tbody tr th {\n",
       "        vertical-align: top;\n",
       "    }\n",
       "\n",
       "    .dataframe thead th {\n",
       "        text-align: right;\n",
       "    }\n",
       "</style>\n",
       "<table border=\"1\" class=\"dataframe\">\n",
       "  <thead>\n",
       "    <tr style=\"text-align: right;\">\n",
       "      <th></th>\n",
       "      <th>anime_id</th>\n",
       "      <th>title</th>\n",
       "      <th>type</th>\n",
       "      <th>source</th>\n",
       "      <th>episodes</th>\n",
       "      <th>status</th>\n",
       "      <th>airing</th>\n",
       "      <th>aired_string</th>\n",
       "      <th>aired</th>\n",
       "      <th>duration</th>\n",
       "      <th>...</th>\n",
       "      <th>background</th>\n",
       "      <th>premiered</th>\n",
       "      <th>broadcast</th>\n",
       "      <th>related</th>\n",
       "      <th>producer</th>\n",
       "      <th>licensor</th>\n",
       "      <th>studio</th>\n",
       "      <th>genre</th>\n",
       "      <th>opening_theme</th>\n",
       "      <th>ending_theme</th>\n",
       "    </tr>\n",
       "  </thead>\n",
       "  <tbody>\n",
       "    <tr>\n",
       "      <th>54</th>\n",
       "      <td>11547</td>\n",
       "      <td>Sengoku☆Paradise Kiwami</td>\n",
       "      <td>TV</td>\n",
       "      <td>Unknown</td>\n",
       "      <td>26</td>\n",
       "      <td>Finished Airing</td>\n",
       "      <td>False</td>\n",
       "      <td>Oct 4, 2011 to Mar 27, 2012</td>\n",
       "      <td>{'from': '2011-10-04', 'to': '2012-03-27'}</td>\n",
       "      <td>3 min. per ep.</td>\n",
       "      <td>...</td>\n",
       "      <td>NaN</td>\n",
       "      <td>Fall 2011</td>\n",
       "      <td>Unknown</td>\n",
       "      <td>[]</td>\n",
       "      <td>TV Tokyo, G-mode</td>\n",
       "      <td>NaN</td>\n",
       "      <td>Milky Cartoon, LMD</td>\n",
       "      <td>Action, Comedy, Drama, Historical, Romance, Sa...</td>\n",
       "      <td>['#01: \"Return Ranse Dokugan Ryuu (リターン乱世独眼竜)\"...</td>\n",
       "      <td>['\"Return Ranse Dokugan Ryuu (リターン乱世独眼竜)\" by T...</td>\n",
       "    </tr>\n",
       "    <tr>\n",
       "      <th>58</th>\n",
       "      <td>7605</td>\n",
       "      <td>Parasol Henbei</td>\n",
       "      <td>TV</td>\n",
       "      <td>Unknown</td>\n",
       "      <td>200</td>\n",
       "      <td>Finished Airing</td>\n",
       "      <td>False</td>\n",
       "      <td>Oct 2, 1989 to Jan 28, 1991</td>\n",
       "      <td>{'from': '1989-10-02', 'to': '1991-01-28'}</td>\n",
       "      <td>10 min. per ep.</td>\n",
       "      <td>...</td>\n",
       "      <td>NaN</td>\n",
       "      <td>Fall 1989</td>\n",
       "      <td>Unknown</td>\n",
       "      <td>[]</td>\n",
       "      <td>NaN</td>\n",
       "      <td>NaN</td>\n",
       "      <td>NaN</td>\n",
       "      <td>Adventure, Comedy, Fantasy, Kids, Magic</td>\n",
       "      <td>[]</td>\n",
       "      <td>[]</td>\n",
       "    </tr>\n",
       "    <tr>\n",
       "      <th>59</th>\n",
       "      <td>9389</td>\n",
       "      <td>Ginga Hyouryuu Vifam: Kieta 12-nin</td>\n",
       "      <td>OVA</td>\n",
       "      <td>Unknown</td>\n",
       "      <td>1</td>\n",
       "      <td>Finished Airing</td>\n",
       "      <td>False</td>\n",
       "      <td>Feb 25, 1985</td>\n",
       "      <td>{'from': '1985-02-25', 'to': '1985-02-25'}</td>\n",
       "      <td>57 min.</td>\n",
       "      <td>...</td>\n",
       "      <td>NaN</td>\n",
       "      <td>NaN</td>\n",
       "      <td>NaN</td>\n",
       "      <td>{'Parent story': [{'mal_id': 2987, 'type': 'an...</td>\n",
       "      <td>NaN</td>\n",
       "      <td>NaN</td>\n",
       "      <td>Sunrise</td>\n",
       "      <td>Sci-Fi, Adventure, Space, Mecha</td>\n",
       "      <td>[]</td>\n",
       "      <td>[]</td>\n",
       "    </tr>\n",
       "    <tr>\n",
       "      <th>61</th>\n",
       "      <td>9998</td>\n",
       "      <td>Chuuhai Lemon: Love 30s - Ame ni Nurete mo</td>\n",
       "      <td>OVA</td>\n",
       "      <td>Unknown</td>\n",
       "      <td>1</td>\n",
       "      <td>Finished Airing</td>\n",
       "      <td>False</td>\n",
       "      <td>Oct 21, 1985</td>\n",
       "      <td>{'from': '1985-10-21', 'to': '1985-10-21'}</td>\n",
       "      <td>44 min.</td>\n",
       "      <td>...</td>\n",
       "      <td>NaN</td>\n",
       "      <td>NaN</td>\n",
       "      <td>NaN</td>\n",
       "      <td>[]</td>\n",
       "      <td>Tsuchida Productions, Wonder Kids</td>\n",
       "      <td>NaN</td>\n",
       "      <td>NaN</td>\n",
       "      <td>Police, Comedy, Romance, Drama</td>\n",
       "      <td>[]</td>\n",
       "      <td>[]</td>\n",
       "    </tr>\n",
       "    <tr>\n",
       "      <th>64</th>\n",
       "      <td>5588</td>\n",
       "      <td>Ko Ko Ro</td>\n",
       "      <td>OVA</td>\n",
       "      <td>Unknown</td>\n",
       "      <td>2</td>\n",
       "      <td>Finished Airing</td>\n",
       "      <td>False</td>\n",
       "      <td>Dec 21, 2001 to Jun 21, 2002</td>\n",
       "      <td>{'from': '2001-12-21', 'to': '2002-06-21'}</td>\n",
       "      <td>30 min. per ep.</td>\n",
       "      <td>...</td>\n",
       "      <td>NaN</td>\n",
       "      <td>NaN</td>\n",
       "      <td>NaN</td>\n",
       "      <td>[]</td>\n",
       "      <td>NaN</td>\n",
       "      <td>NaN</td>\n",
       "      <td>NaN</td>\n",
       "      <td>Hentai</td>\n",
       "      <td>[]</td>\n",
       "      <td>[]</td>\n",
       "    </tr>\n",
       "  </tbody>\n",
       "</table>\n",
       "<p>5 rows × 27 columns</p>\n",
       "</div>"
      ],
      "text/plain": [
       "    anime_id                                       title type   source  \\\n",
       "54     11547                     Sengoku☆Paradise Kiwami   TV  Unknown   \n",
       "58      7605                              Parasol Henbei   TV  Unknown   \n",
       "59      9389          Ginga Hyouryuu Vifam: Kieta 12-nin  OVA  Unknown   \n",
       "61      9998  Chuuhai Lemon: Love 30s - Ame ni Nurete mo  OVA  Unknown   \n",
       "64      5588                                    Ko Ko Ro  OVA  Unknown   \n",
       "\n",
       "    episodes           status  airing                  aired_string  \\\n",
       "54        26  Finished Airing   False   Oct 4, 2011 to Mar 27, 2012   \n",
       "58       200  Finished Airing   False   Oct 2, 1989 to Jan 28, 1991   \n",
       "59         1  Finished Airing   False                  Feb 25, 1985   \n",
       "61         1  Finished Airing   False                  Oct 21, 1985   \n",
       "64         2  Finished Airing   False  Dec 21, 2001 to Jun 21, 2002   \n",
       "\n",
       "                                         aired         duration  ...  \\\n",
       "54  {'from': '2011-10-04', 'to': '2012-03-27'}   3 min. per ep.  ...   \n",
       "58  {'from': '1989-10-02', 'to': '1991-01-28'}  10 min. per ep.  ...   \n",
       "59  {'from': '1985-02-25', 'to': '1985-02-25'}          57 min.  ...   \n",
       "61  {'from': '1985-10-21', 'to': '1985-10-21'}          44 min.  ...   \n",
       "64  {'from': '2001-12-21', 'to': '2002-06-21'}  30 min. per ep.  ...   \n",
       "\n",
       "   background  premiered  broadcast  \\\n",
       "54        NaN  Fall 2011    Unknown   \n",
       "58        NaN  Fall 1989    Unknown   \n",
       "59        NaN        NaN        NaN   \n",
       "61        NaN        NaN        NaN   \n",
       "64        NaN        NaN        NaN   \n",
       "\n",
       "                                              related  \\\n",
       "54                                                 []   \n",
       "58                                                 []   \n",
       "59  {'Parent story': [{'mal_id': 2987, 'type': 'an...   \n",
       "61                                                 []   \n",
       "64                                                 []   \n",
       "\n",
       "                             producer  licensor              studio  \\\n",
       "54                   TV Tokyo, G-mode       NaN  Milky Cartoon, LMD   \n",
       "58                                NaN       NaN                 NaN   \n",
       "59                                NaN       NaN             Sunrise   \n",
       "61  Tsuchida Productions, Wonder Kids       NaN                 NaN   \n",
       "64                                NaN       NaN                 NaN   \n",
       "\n",
       "                                                genre  \\\n",
       "54  Action, Comedy, Drama, Historical, Romance, Sa...   \n",
       "58            Adventure, Comedy, Fantasy, Kids, Magic   \n",
       "59                    Sci-Fi, Adventure, Space, Mecha   \n",
       "61                     Police, Comedy, Romance, Drama   \n",
       "64                                             Hentai   \n",
       "\n",
       "                                        opening_theme  \\\n",
       "54  ['#01: \"Return Ranse Dokugan Ryuu (リターン乱世独眼竜)\"...   \n",
       "58                                                 []   \n",
       "59                                                 []   \n",
       "61                                                 []   \n",
       "64                                                 []   \n",
       "\n",
       "                                         ending_theme  \n",
       "54  ['\"Return Ranse Dokugan Ryuu (リターン乱世独眼竜)\" by T...  \n",
       "58                                                 []  \n",
       "59                                                 []  \n",
       "61                                                 []  \n",
       "64                                                 []  \n",
       "\n",
       "[5 rows x 27 columns]"
      ]
     },
     "metadata": {},
     "execution_count": 22
    }
   ],
   "metadata": {}
  },
  {
   "cell_type": "markdown",
   "source": [
    "It seems that the `Unknown` source animes have a lot of `NaN` value in their attributes. But notice that all five animes above finished airing. Maybe most of `Unknown` source animes are finished?"
   ],
   "metadata": {}
  },
  {
   "cell_type": "code",
   "execution_count": 23,
   "source": [
    "anime[anime['source'] == 'Unknown']['airing'].value_counts()"
   ],
   "outputs": [
    {
     "output_type": "execute_result",
     "data": {
      "text/plain": [
       "False    3988\n",
       "True       18\n",
       "Name: airing, dtype: int64"
      ]
     },
     "metadata": {},
     "execution_count": 23
    }
   ],
   "metadata": {}
  },
  {
   "cell_type": "markdown",
   "source": [
    "Yeah, that is right. We also notice that, the aired date of these animes are quite old. Maybe"
   ],
   "metadata": {}
  },
  {
   "cell_type": "markdown",
   "source": [],
   "metadata": {}
  }
 ],
 "metadata": {
  "orig_nbformat": 4,
  "language_info": {
   "name": "python",
   "version": "3.8.11",
   "mimetype": "text/x-python",
   "codemirror_mode": {
    "name": "ipython",
    "version": 3
   },
   "pygments_lexer": "ipython3",
   "nbconvert_exporter": "python",
   "file_extension": ".py"
  },
  "kernelspec": {
   "name": "python3",
   "display_name": "Python 3.8.11 64-bit"
  },
  "interpreter": {
   "hash": "03988a1ca043f8de028458af3ae7880dfad49af43b42a438805c5fa18f8ac071"
  }
 },
 "nbformat": 4,
 "nbformat_minor": 2
}