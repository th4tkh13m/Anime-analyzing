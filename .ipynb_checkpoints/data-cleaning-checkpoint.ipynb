{
 "cells": [
  {
   "cell_type": "code",
   "execution_count": 1,
   "id": "c541d4f9",
   "metadata": {},
   "outputs": [],
   "source": [
    "import pandas as pd\n",
    "import numpy as np\n",
    "import matplotlib.pyplot as plt\n"
   ]
  },
  {
   "cell_type": "code",
   "execution_count": 2,
   "id": "8a3031b3",
   "metadata": {},
   "outputs": [
    {
     "name": "stdout",
     "output_type": "stream",
     "text": [
      "This database is from Kaggle!\n"
     ]
    },
    {
     "data": {
      "text/html": [
       "<div>\n",
       "<style scoped>\n",
       "    .dataframe tbody tr th:only-of-type {\n",
       "        vertical-align: middle;\n",
       "    }\n",
       "\n",
       "    .dataframe tbody tr th {\n",
       "        vertical-align: top;\n",
       "    }\n",
       "\n",
       "    .dataframe thead th {\n",
       "        text-align: right;\n",
       "    }\n",
       "</style>\n",
       "<table border=\"1\" class=\"dataframe\">\n",
       "  <thead>\n",
       "    <tr style=\"text-align: right;\">\n",
       "      <th></th>\n",
       "      <th>uid</th>\n",
       "      <th>title</th>\n",
       "      <th>synopsis</th>\n",
       "      <th>genre</th>\n",
       "      <th>aired</th>\n",
       "      <th>episodes</th>\n",
       "      <th>members</th>\n",
       "      <th>popularity</th>\n",
       "      <th>ranked</th>\n",
       "      <th>score</th>\n",
       "      <th>img_url</th>\n",
       "      <th>link</th>\n",
       "    </tr>\n",
       "  </thead>\n",
       "  <tbody>\n",
       "    <tr>\n",
       "      <th>0</th>\n",
       "      <td>28891</td>\n",
       "      <td>Haikyuu!! Second Season</td>\n",
       "      <td>Following their participation at the Inter-Hig...</td>\n",
       "      <td>['Comedy', 'Sports', 'Drama', 'School', 'Shoun...</td>\n",
       "      <td>Oct 4, 2015 to Mar 27, 2016</td>\n",
       "      <td>25.0</td>\n",
       "      <td>489888</td>\n",
       "      <td>141</td>\n",
       "      <td>25.0</td>\n",
       "      <td>8.82</td>\n",
       "      <td>https://cdn.myanimelist.net/images/anime/9/766...</td>\n",
       "      <td>https://myanimelist.net/anime/28891/Haikyuu_Se...</td>\n",
       "    </tr>\n",
       "    <tr>\n",
       "      <th>1</th>\n",
       "      <td>23273</td>\n",
       "      <td>Shigatsu wa Kimi no Uso</td>\n",
       "      <td>Music accompanies the path of the human metron...</td>\n",
       "      <td>['Drama', 'Music', 'Romance', 'School', 'Shoun...</td>\n",
       "      <td>Oct 10, 2014 to Mar 20, 2015</td>\n",
       "      <td>22.0</td>\n",
       "      <td>995473</td>\n",
       "      <td>28</td>\n",
       "      <td>24.0</td>\n",
       "      <td>8.83</td>\n",
       "      <td>https://cdn.myanimelist.net/images/anime/3/671...</td>\n",
       "      <td>https://myanimelist.net/anime/23273/Shigatsu_w...</td>\n",
       "    </tr>\n",
       "    <tr>\n",
       "      <th>2</th>\n",
       "      <td>34599</td>\n",
       "      <td>Made in Abyss</td>\n",
       "      <td>The Abyss—a gaping chasm stretching down into ...</td>\n",
       "      <td>['Sci-Fi', 'Adventure', 'Mystery', 'Drama', 'F...</td>\n",
       "      <td>Jul 7, 2017 to Sep 29, 2017</td>\n",
       "      <td>13.0</td>\n",
       "      <td>581663</td>\n",
       "      <td>98</td>\n",
       "      <td>23.0</td>\n",
       "      <td>8.83</td>\n",
       "      <td>https://cdn.myanimelist.net/images/anime/6/867...</td>\n",
       "      <td>https://myanimelist.net/anime/34599/Made_in_Abyss</td>\n",
       "    </tr>\n",
       "    <tr>\n",
       "      <th>3</th>\n",
       "      <td>5114</td>\n",
       "      <td>Fullmetal Alchemist: Brotherhood</td>\n",
       "      <td>\"In order for something to be obtained, someth...</td>\n",
       "      <td>['Action', 'Military', 'Adventure', 'Comedy', ...</td>\n",
       "      <td>Apr 5, 2009 to Jul 4, 2010</td>\n",
       "      <td>64.0</td>\n",
       "      <td>1615084</td>\n",
       "      <td>4</td>\n",
       "      <td>1.0</td>\n",
       "      <td>9.23</td>\n",
       "      <td>https://cdn.myanimelist.net/images/anime/1223/...</td>\n",
       "      <td>https://myanimelist.net/anime/5114/Fullmetal_A...</td>\n",
       "    </tr>\n",
       "    <tr>\n",
       "      <th>4</th>\n",
       "      <td>31758</td>\n",
       "      <td>Kizumonogatari III: Reiketsu-hen</td>\n",
       "      <td>After helping revive the legendary vampire Kis...</td>\n",
       "      <td>['Action', 'Mystery', 'Supernatural', 'Vampire']</td>\n",
       "      <td>Jan 6, 2017</td>\n",
       "      <td>1.0</td>\n",
       "      <td>214621</td>\n",
       "      <td>502</td>\n",
       "      <td>22.0</td>\n",
       "      <td>8.83</td>\n",
       "      <td>https://cdn.myanimelist.net/images/anime/3/815...</td>\n",
       "      <td>https://myanimelist.net/anime/31758/Kizumonoga...</td>\n",
       "    </tr>\n",
       "  </tbody>\n",
       "</table>\n",
       "</div>"
      ],
      "text/plain": [
       "     uid                             title  \\\n",
       "0  28891           Haikyuu!! Second Season   \n",
       "1  23273           Shigatsu wa Kimi no Uso   \n",
       "2  34599                     Made in Abyss   \n",
       "3   5114  Fullmetal Alchemist: Brotherhood   \n",
       "4  31758  Kizumonogatari III: Reiketsu-hen   \n",
       "\n",
       "                                            synopsis  \\\n",
       "0  Following their participation at the Inter-Hig...   \n",
       "1  Music accompanies the path of the human metron...   \n",
       "2  The Abyss—a gaping chasm stretching down into ...   \n",
       "3  \"In order for something to be obtained, someth...   \n",
       "4  After helping revive the legendary vampire Kis...   \n",
       "\n",
       "                                               genre  \\\n",
       "0  ['Comedy', 'Sports', 'Drama', 'School', 'Shoun...   \n",
       "1  ['Drama', 'Music', 'Romance', 'School', 'Shoun...   \n",
       "2  ['Sci-Fi', 'Adventure', 'Mystery', 'Drama', 'F...   \n",
       "3  ['Action', 'Military', 'Adventure', 'Comedy', ...   \n",
       "4   ['Action', 'Mystery', 'Supernatural', 'Vampire']   \n",
       "\n",
       "                          aired  episodes  members  popularity  ranked  score  \\\n",
       "0   Oct 4, 2015 to Mar 27, 2016      25.0   489888         141    25.0   8.82   \n",
       "1  Oct 10, 2014 to Mar 20, 2015      22.0   995473          28    24.0   8.83   \n",
       "2   Jul 7, 2017 to Sep 29, 2017      13.0   581663          98    23.0   8.83   \n",
       "3    Apr 5, 2009 to Jul 4, 2010      64.0  1615084           4     1.0   9.23   \n",
       "4                   Jan 6, 2017       1.0   214621         502    22.0   8.83   \n",
       "\n",
       "                                             img_url  \\\n",
       "0  https://cdn.myanimelist.net/images/anime/9/766...   \n",
       "1  https://cdn.myanimelist.net/images/anime/3/671...   \n",
       "2  https://cdn.myanimelist.net/images/anime/6/867...   \n",
       "3  https://cdn.myanimelist.net/images/anime/1223/...   \n",
       "4  https://cdn.myanimelist.net/images/anime/3/815...   \n",
       "\n",
       "                                                link  \n",
       "0  https://myanimelist.net/anime/28891/Haikyuu_Se...  \n",
       "1  https://myanimelist.net/anime/23273/Shigatsu_w...  \n",
       "2  https://myanimelist.net/anime/34599/Made_in_Abyss  \n",
       "3  https://myanimelist.net/anime/5114/Fullmetal_A...  \n",
       "4  https://myanimelist.net/anime/31758/Kizumonoga...  "
      ]
     },
     "execution_count": 2,
     "metadata": {},
     "output_type": "execute_result"
    }
   ],
   "source": [
    "anime = pd.read_csv(\"./Data/Uncleaned/MAL2020/animes.csv\")\n",
    "print(\"This database is from Kaggle!\")\n",
    "anime.head()"
   ]
  },
  {
   "cell_type": "code",
   "execution_count": 3,
   "id": "1585456b",
   "metadata": {},
   "outputs": [
    {
     "name": "stdout",
     "output_type": "stream",
     "text": [
      "<class 'pandas.core.frame.DataFrame'>\n",
      "RangeIndex: 19311 entries, 0 to 19310\n",
      "Data columns (total 12 columns):\n",
      " #   Column      Non-Null Count  Dtype  \n",
      "---  ------      --------------  -----  \n",
      " 0   uid         19311 non-null  int64  \n",
      " 1   title       19311 non-null  object \n",
      " 2   synopsis    18336 non-null  object \n",
      " 3   genre       19311 non-null  object \n",
      " 4   aired       19311 non-null  object \n",
      " 5   episodes    18605 non-null  float64\n",
      " 6   members     19311 non-null  int64  \n",
      " 7   popularity  19311 non-null  int64  \n",
      " 8   ranked      16099 non-null  float64\n",
      " 9   score       18732 non-null  float64\n",
      " 10  img_url     19131 non-null  object \n",
      " 11  link        19311 non-null  object \n",
      "dtypes: float64(3), int64(3), object(6)\n",
      "memory usage: 1.8+ MB\n"
     ]
    }
   ],
   "source": [
    "anime.info()"
   ]
  },
  {
   "cell_type": "code",
   "execution_count": 4,
   "id": "de4ca267",
   "metadata": {},
   "outputs": [
    {
     "name": "stdout",
     "output_type": "stream",
     "text": [
      "<class 'pandas.core.frame.DataFrame'>\n",
      "Int64Index: 16368 entries, 0 to 19006\n",
      "Data columns (total 12 columns):\n",
      " #   Column      Non-Null Count  Dtype  \n",
      "---  ------      --------------  -----  \n",
      " 0   uid         16368 non-null  int64  \n",
      " 1   title       16368 non-null  object \n",
      " 2   synopsis    15583 non-null  object \n",
      " 3   genre       16368 non-null  object \n",
      " 4   aired       16368 non-null  object \n",
      " 5   episodes    15825 non-null  float64\n",
      " 6   members     16368 non-null  int64  \n",
      " 7   popularity  16368 non-null  int64  \n",
      " 8   ranked      14611 non-null  float64\n",
      " 9   score       15964 non-null  float64\n",
      " 10  img_url     16202 non-null  object \n",
      " 11  link        16368 non-null  object \n",
      "dtypes: float64(3), int64(3), object(6)\n",
      "memory usage: 1.6+ MB\n"
     ]
    }
   ],
   "source": [
    "anime = anime.drop_duplicates()\n",
    "anime.info()"
   ]
  },
  {
   "cell_type": "markdown",
   "id": "377b0b75",
   "metadata": {},
   "source": [
    "Look at the result, we have just dropped approximately 3000 records!"
   ]
  },
  {
   "cell_type": "markdown",
   "id": "76b2ac53",
   "metadata": {},
   "source": [
    "There is a noticeable detail: All the columns counts are `non-null`, which means there is not a single `None`, `NaN` and `NaT` in our dataset. Therefore, there are two possible cases:\n"
   ]
  },
  {
   "cell_type": "code",
   "execution_count": 5,
   "id": "a8e0c083",
   "metadata": {},
   "outputs": [
    {
     "data": {
      "text/plain": [
       "Index(['uid', 'title', 'synopsis', 'genre', 'aired', 'episodes', 'members',\n",
       "       'popularity', 'ranked', 'score', 'img_url', 'link'],\n",
       "      dtype='object')"
      ]
     },
     "execution_count": 5,
     "metadata": {},
     "output_type": "execute_result"
    }
   ],
   "source": [
    "anime.columns"
   ]
  },
  {
   "cell_type": "markdown",
   "id": "5703f1d6",
   "metadata": {},
   "source": [
    "Well, that's a lot! We should drop some columns\n",
    "\n",
    "I have already think of dropping the image's URL, link since do not provide anything new about the animes. But what are the the meanings of some columns, `popularity`, etc? Let's learn about those columns directly from MyAnimeList and the data itself.\n",
    "\n",
    "Well, let's try to explain each column, one by one.\n",
    "\n",
    "First of all, the `uid` column is the unique ID for every anime on the list. It is a primary key to distinguish every anime to each other.\n",
    "\n",
    "The `title` column is the anime's names.\n",
    "\n",
    "The `synopsis` is the short introduction of the animes\n",
    "\n",
    "The `img_url` points to the poster image of the anime. We can drop them since it is a link and it won't add any new information to the anime.\n",
    "\n",
    "Similarly, the `link` column points toward the link of the animes on MyAnimeList.\n",
    "\n",
    "There is the easy part, now we must browse our data for more information.\n"
   ]
  },
  {
   "cell_type": "markdown",
   "id": "1a7b206f",
   "metadata": {},
   "source": [
    "Firstly, let's drop the two unnecessary columns, `img_url` and `link`."
   ]
  },
  {
   "cell_type": "code",
   "execution_count": 6,
   "id": "71ad040f",
   "metadata": {},
   "outputs": [],
   "source": [
    "anime.drop(['img_url', 'link'], axis=1, inplace=True)"
   ]
  },
  {
   "cell_type": "markdown",
   "id": "cd8ea590",
   "metadata": {},
   "source": [
    "We recheck the columns to make sure they were dropped."
   ]
  },
  {
   "cell_type": "code",
   "execution_count": 7,
   "id": "0721b8f9",
   "metadata": {},
   "outputs": [
    {
     "data": {
      "text/plain": [
       "Index(['uid', 'title', 'synopsis', 'genre', 'aired', 'episodes', 'members',\n",
       "       'popularity', 'ranked', 'score'],\n",
       "      dtype='object')"
      ]
     },
     "execution_count": 7,
     "metadata": {},
     "output_type": "execute_result"
    }
   ],
   "source": [
    "anime.columns"
   ]
  },
  {
   "cell_type": "markdown",
   "id": "3feecb38",
   "metadata": {},
   "source": [
    "I'm quite curious about the `synopsis` column. Let check the first element of that column to understand it."
   ]
  },
  {
   "cell_type": "code",
   "execution_count": 8,
   "id": "51904cad",
   "metadata": {},
   "outputs": [
    {
     "data": {
      "text/plain": [
       "\"Following their participation at the Inter-High, the Karasuno High School volleyball team attempts to refocus their efforts, aiming to conquer the Spring tournament instead.  \\r\\n \\r\\nWhen they receive an invitation from long-standing rival Nekoma High, Karasuno agrees to take part in a large training camp alongside many notable volleyball teams in Tokyo and even some national level players. By playing with some of the toughest teams in Japan, they hope not only to sharpen their skills, but also come up with new attacks that would strengthen them. Moreover, Hinata and Kageyama attempt to devise a more powerful weapon, one that could possibly break the sturdiest of blocks.  \\r\\n \\r\\nFacing what may be their last chance at victory before the senior players graduate, the members of Karasuno's volleyball team must learn to settle their differences and train harder than ever if they hope to overcome formidable opponents old and new—including their archrival Aoba Jousai and its world-class setter Tooru Oikawa. \\r\\n \\r\\n[Written by MAL Rewrite]\""
      ]
     },
     "execution_count": 8,
     "metadata": {},
     "output_type": "execute_result"
    }
   ],
   "source": [
    "anime['synopsis'][0]"
   ]
  },
  {
   "cell_type": "markdown",
   "id": "35e34050",
   "metadata": {},
   "source": [
    "The `synopsis` column is the Rewrite by MAL writers. So, it will help us when we try to classify the animes based on some keywords."
   ]
  },
  {
   "cell_type": "markdown",
   "id": "612637ae",
   "metadata": {},
   "source": [
    "Then, we will have a look at the `genre` column. Let look at first five elements of the attribute."
   ]
  },
  {
   "cell_type": "code",
   "execution_count": 9,
   "id": "e8b09cdc",
   "metadata": {},
   "outputs": [
    {
     "data": {
      "text/plain": [
       "0    ['Comedy', 'Sports', 'Drama', 'School', 'Shoun...\n",
       "1    ['Drama', 'Music', 'Romance', 'School', 'Shoun...\n",
       "2    ['Sci-Fi', 'Adventure', 'Mystery', 'Drama', 'F...\n",
       "3    ['Action', 'Military', 'Adventure', 'Comedy', ...\n",
       "4     ['Action', 'Mystery', 'Supernatural', 'Vampire']\n",
       "Name: genre, dtype: object"
      ]
     },
     "execution_count": 9,
     "metadata": {},
     "output_type": "execute_result"
    }
   ],
   "source": [
    "anime['genre'].head()"
   ]
  },
  {
   "cell_type": "markdown",
   "id": "3f8a0cc5",
   "metadata": {},
   "source": [
    "That looks like a Python list. But let check it for sure."
   ]
  },
  {
   "cell_type": "code",
   "execution_count": 10,
   "id": "c5640262",
   "metadata": {},
   "outputs": [
    {
     "data": {
      "text/plain": [
       "str"
      ]
     },
     "execution_count": 10,
     "metadata": {},
     "output_type": "execute_result"
    }
   ],
   "source": [
    "type(anime['genre'][0])"
   ]
  },
  {
   "cell_type": "markdown",
   "id": "7dd75d07",
   "metadata": {},
   "source": [
    "It turns out the type of the elements is `str`. We can use the built-in function `ast.literal_eval` to change `str` into `list`."
   ]
  },
  {
   "cell_type": "code",
   "execution_count": 11,
   "id": "ad5fecac",
   "metadata": {},
   "outputs": [
    {
     "data": {
      "text/plain": [
       "list"
      ]
     },
     "execution_count": 11,
     "metadata": {},
     "output_type": "execute_result"
    }
   ],
   "source": [
    "#Using built-in function ast.literal_eval to convert a string list into a list\n",
    "import ast\n",
    "anime['genre'] = anime['genre'].apply(ast.literal_eval)\n",
    "#Check the type\n",
    "type(anime['genre'].iloc[0])"
   ]
  },
  {
   "cell_type": "markdown",
   "id": "393e306c",
   "metadata": {},
   "source": [
    "Let's toy a little with our new `genre` column. We can grab genres of an anime using indexing."
   ]
  },
  {
   "cell_type": "markdown",
   "id": "c38bca3c",
   "metadata": {},
   "source": [
    "Grabbing out the last genre of the first anime:"
   ]
  },
  {
   "cell_type": "code",
   "execution_count": 12,
   "id": "7b5dfd0f",
   "metadata": {},
   "outputs": [
    {
     "data": {
      "text/plain": [
       "['Comedy', 'Sports', 'Drama', 'School', 'Shounen']"
      ]
     },
     "execution_count": 12,
     "metadata": {},
     "output_type": "execute_result"
    }
   ],
   "source": [
    "anime['genre'][0]"
   ]
  },
  {
   "cell_type": "markdown",
   "id": "4c8faa0f",
   "metadata": {},
   "source": [
    "We can grab the first genre of the anime 'Monster' by Naoki Urasawa:"
   ]
  },
  {
   "cell_type": "code",
   "execution_count": 13,
   "id": "9043c75f",
   "metadata": {},
   "outputs": [
    {
     "data": {
      "text/plain": [
       "'Drama'"
      ]
     },
     "execution_count": 13,
     "metadata": {},
     "output_type": "execute_result"
    }
   ],
   "source": [
    "anime['genre'].loc[(anime['title'] == 'Monster')].iloc[0][0]\n"
   ]
  },
  {
   "cell_type": "markdown",
   "id": "d1fa9940",
   "metadata": {},
   "source": [
    "We then analyze the `aired` column. Let check the first five element."
   ]
  },
  {
   "cell_type": "code",
   "execution_count": 14,
   "id": "6d8e75cf",
   "metadata": {},
   "outputs": [
    {
     "data": {
      "text/plain": [
       "0     Oct 4, 2015 to Mar 27, 2016\n",
       "1    Oct 10, 2014 to Mar 20, 2015\n",
       "2     Jul 7, 2017 to Sep 29, 2017\n",
       "3      Apr 5, 2009 to Jul 4, 2010\n",
       "4                     Jan 6, 2017\n",
       "Name: aired, dtype: object"
      ]
     },
     "execution_count": 14,
     "metadata": {},
     "output_type": "execute_result"
    }
   ],
   "source": [
    "anime['aired'].head()"
   ]
  },
  {
   "cell_type": "markdown",
   "id": "0264392e",
   "metadata": {},
   "source": [
    "The format of the column is:\n",
    "\n",
    "- \"`Month Day, Year` to `Month Day, Year`\"\n",
    "- \"`Month Day, Year`\"\n",
    "- Or something else (For unscheduled animes.)\n",
    "\n",
    "We can easily handle these format using pandas' `apply()` and `pd.to_datetime()`, and split this column into 2 sub-columns:\n",
    "- Starting date of the anime, `start`.\n",
    "- Ending date of the anime, `end`.\n"
   ]
  },
  {
   "cell_type": "code",
   "execution_count": 15,
   "id": "9e6b1403",
   "metadata": {},
   "outputs": [],
   "source": [
    "def split_start(aired):\n",
    "    if 'to' in aired:\n",
    "        time = aired.split(' to ')\n",
    "        start = time[0]\n",
    "        return start\n",
    "    return aired\n",
    "\n",
    "def split_end(aired):\n",
    "    if 'to' in aired:\n",
    "        time = aired.split(' to ')\n",
    "        end = time[-1]\n",
    "        return end\n",
    "    return aired\n",
    "start = pd.to_datetime(anime['aired'].apply(split_start), errors='coerce')\n",
    "end = pd.to_datetime(anime['aired'].apply(split_end), errors='coerce')\n",
    "\n",
    "anime = pd.concat([anime,start,end], axis=1)\n",
    "anime = anime.drop('aired', axis=1)"
   ]
  },
  {
   "cell_type": "code",
   "execution_count": 16,
   "id": "1073ef16",
   "metadata": {},
   "outputs": [
    {
     "data": {
      "text/plain": [
       "Index(['uid', 'title', 'synopsis', 'genre', 'episodes', 'members',\n",
       "       'popularity', 'ranked', 'score'],\n",
       "      dtype='object')"
      ]
     },
     "execution_count": 16,
     "metadata": {},
     "output_type": "execute_result"
    }
   ],
   "source": [
    "anime.columns"
   ]
  },
  {
   "cell_type": "markdown",
   "id": "c47b3037",
   "metadata": {},
   "source": [
    "Next, we will examine the `episodes`. "
   ]
  },
  {
   "cell_type": "code",
   "execution_count": 17,
   "id": "7c7538ea",
   "metadata": {},
   "outputs": [
    {
     "data": {
      "text/plain": [
       "count    15825.000000\n",
       "mean        11.658578\n",
       "std         48.853601\n",
       "min          1.000000\n",
       "25%          1.000000\n",
       "50%          2.000000\n",
       "75%         12.000000\n",
       "max       3057.000000\n",
       "Name: episodes, dtype: float64"
      ]
     },
     "execution_count": 17,
     "metadata": {},
     "output_type": "execute_result"
    }
   ],
   "source": [
    "anime['episodes'].describe()"
   ]
  },
  {
   "cell_type": "code",
   "execution_count": 19,
   "id": "70fea413",
   "metadata": {},
   "outputs": [
    {
     "data": {
      "text/plain": [
       "543"
      ]
     },
     "execution_count": 19,
     "metadata": {},
     "output_type": "execute_result"
    }
   ],
   "source": [
    "anime['episodes'].isnull().sum()"
   ]
  },
  {
   "cell_type": "markdown",
   "id": "96a13695",
   "metadata": {},
   "source": [
    "We can barely explain why there is such a low number of episode and a high std. We can think of Movies, where the number of episodes is only 1."
   ]
  },
  {
   "cell_type": "code",
   "execution_count": 18,
   "id": "a8b07efa",
   "metadata": {},
   "outputs": [
    {
     "data": {
      "image/png": "[encoded data removed]",
      "text/plain": [
       "<Figure size 2160x432 with 1 Axes>"
      ]
     },
     "metadata": {
      "needs_background": "light"
     },
     "output_type": "display_data"
    }
   ],
   "source": [
    "plt.figure(figsize=(30,6))\n",
    "plt.grid(color='white', lw=0.5, axis='x')\n",
    "\n",
    "plt.hist(anime['episodes'], bins = 50)\n",
    "# plt.xticks(bins)\n",
    "\n",
    "plt.show()"
   ]
  }
 ],
 "metadata": {
  "interpreter": {
   "hash": "deb2b48d990282ea88a32eddb005831931dc55a942ba4a2cbc665175a2d28950"
  },
  "kernelspec": {
   "display_name": "Python 3 (ipykernel)",
   "language": "python",
   "name": "python3"
  },
  "language_info": {
   "codemirror_mode": {
    "name": "ipython",
    "version": 3
   },
   "file_extension": ".py",
   "mimetype": "text/x-python",
   "name": "python",
   "nbconvert_exporter": "python",
   "pygments_lexer": "ipython3",
   "version": "3.8.11"
  }
 },
 "nbformat": 4,
 "nbformat_minor": 5
}
